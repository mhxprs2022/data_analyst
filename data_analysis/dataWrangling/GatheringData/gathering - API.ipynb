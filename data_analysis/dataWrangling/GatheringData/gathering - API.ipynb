{
 "cells": [
  {
   "cell_type": "code",
   "execution_count": 1,
   "id": "fe95385b",
   "metadata": {},
   "outputs": [
    {
     "name": "stdout",
     "output_type": "stream",
     "text": [
      "Requirement already satisfied: certifi in c:\\users\\christopher.hu\\anaconda3\\lib\\site-packages (2022.6.15)"
     ]
    },
    {
     "name": "stderr",
     "output_type": "stream",
     "text": [
      "WARNING: You are using pip version 22.0.4; however, version 22.2.2 is available.\n",
      "You should consider upgrading via the 'C:\\Users\\christopher.hu\\Anaconda3\\python.exe -m pip install --upgrade pip' command.\n"
     ]
    },
    {
     "name": "stdout",
     "output_type": "stream",
     "text": [
      "\n"
     ]
    }
   ],
   "source": [
    "# script to upgrade certificate on this Workspace\n",
    "!pip install --upgrade certifi"
   ]
  },
  {
   "cell_type": "code",
   "execution_count": 2,
   "id": "5a9d429d",
   "metadata": {},
   "outputs": [],
   "source": [
    "import wptools"
   ]
  },
  {
   "cell_type": "code",
   "execution_count": 3,
   "id": "0c49f53c",
   "metadata": {},
   "outputs": [
    {
     "name": "stderr",
     "output_type": "stream",
     "text": [
      "en.wikipedia.org (query) E.T._the_Extra-Terrestrial\n",
      "en.wikipedia.org (query) E.T. the Extra-Terrestrial (&plcontinue=...\n",
      "en.wikipedia.org (parse) 73441\n",
      "www.wikidata.org (wikidata) Q11621\n",
      "www.wikidata.org (labels) Q3703465|Q393686|P4632|Q7341915|P5786|P...\n",
      "www.wikidata.org (labels) P3219|P8313|Q787098|P58|P725|P2704|P104...\n",
      "www.wikidata.org (labels) P227|P3212|P373|P272|P9984|Q505449|Q954...\n",
      "www.wikidata.org (labels) P3302|Q226528|P2408|Q11024|Q130232|P275...\n",
      "www.wikidata.org (labels) Q23817729|P3803|P915|Q18665334|Q1518105...\n",
      "en.wikipedia.org (restbase) /page/summary/E.T._the_Extra-Terrestrial\n",
      "en.wikipedia.org (imageinfo) File:E t the extra terrestrial ver3....\n",
      "E.T. the Extra-Terrestrial (en) data\n",
      "{\n",
      "  WARNINGS: <dict(1)> extracts\n",
      "  aliases: <list(2)> E.T., ET\n",
      "  assessments: <dict(4)> United States, Film, Science Fiction, Lib...\n",
      "  claims: <dict(129)> P1562, P57, P272, P345, P31, P161, P373, P48...\n",
      "  description: 1982 American science fiction film\n",
      "  exhtml: <str(485)> <p><i><b>E.T. the Extra-Terrestrial</b></i> i...\n",
      "  exrest: <str(464)> E.T. the Extra-Terrestrial is a 1982 American...\n",
      "  extext: <str(2272)> _**E.T. the Extra-Terrestrial**_ (or simply ...\n",
      "  extract: <str(2398)> <p class=\"mw-empty-elt\"></p><p><i><b>E.T. t...\n",
      "  image: <list(4)> {'kind': 'parse-image', 'file': 'File:E t the e...\n",
      "  infobox: <dict(19)> name, image, alt, caption, director, produce...\n",
      "  iwlinks: <list(6)> https://commons.wikimedia.org/wiki/Category:E...\n",
      "  label: E.T. the Extra-Terrestrial\n",
      "  labels: <dict(249)> Q3703465, Q393686, P4632, Q7341915, P5786, P...\n",
      "  length: 124,810\n",
      "  links: <list(763)> 10th Saturn Awards, 12 Angry Men (1957 film),...\n",
      "  modified: <dict(2)> page, wikidata\n",
      "  pageid: 73441\n",
      "  parsetree: <str(153469)> <root><template><title>short descriptio...\n",
      "  random: Buckalew\n",
      "  redirects: <list(37)> {'pageid': 177061, 'ns': 0, 'title': 'E.T....\n",
      "  requests: <list(11)> query, query, parse, wikidata, labels, labe...\n",
      "  title: E.T._the_Extra-Terrestrial\n",
      "  url: https://en.wikipedia.org/wiki/E.T._the_Extra-Terrestrial\n",
      "  url_raw: <str(67)> https://en.wikipedia.org/wiki/E.T._the_Extra-...\n",
      "  watchers: 366\n",
      "  what: film\n",
      "  wikibase: Q11621\n",
      "  wikidata: <dict(129)> AllMovie title ID (P1562), director (P57),...\n",
      "  wikidata_pageid: 13150\n",
      "  wikidata_url: https://www.wikidata.org/wiki/Q11621\n",
      "  wikitext: <str(123982)> {{short description|1982 American scienc...\n",
      "}\n"
     ]
    }
   ],
   "source": [
    "page = wptools.page('E.T._the_Extra-Terrestrial').get()"
   ]
  },
  {
   "cell_type": "code",
   "execution_count": 4,
   "id": "2817b2ff",
   "metadata": {},
   "outputs": [
    {
     "data": {
      "text/plain": [
       "[{'kind': 'parse-image',\n",
       "  'file': 'File:E t the extra terrestrial ver3.jpg',\n",
       "  'orig': 'E t the extra terrestrial ver3.jpg',\n",
       "  'timestamp': '2016-06-04T10:30:46Z',\n",
       "  'size': 83073,\n",
       "  'width': 253,\n",
       "  'height': 394,\n",
       "  'url': 'https://upload.wikimedia.org/wikipedia/en/6/66/E_t_the_extra_terrestrial_ver3.jpg',\n",
       "  'descriptionurl': 'https://en.wikipedia.org/wiki/File:E_t_the_extra_terrestrial_ver3.jpg',\n",
       "  'descriptionshorturl': 'https://en.wikipedia.org/w/index.php?curid=7419503',\n",
       "  'title': 'File:E t the extra terrestrial ver3.jpg',\n",
       "  'metadata': {'DateTime': {'value': '2016-06-04 10:30:46',\n",
       "    'source': 'mediawiki-metadata',\n",
       "    'hidden': ''},\n",
       "   'ObjectName': {'value': 'E t the extra terrestrial ver3',\n",
       "    'source': 'mediawiki-metadata',\n",
       "    'hidden': ''},\n",
       "   'CommonsMetadataExtension': {'value': 1.2,\n",
       "    'source': 'extension',\n",
       "    'hidden': ''},\n",
       "   'Categories': {'value': 'All non-free media|E.T. the Extra-Terrestrial|Fair use images of film posters|Files with no machine-readable author|Noindexed pages|Wikipedia non-free files for NFUR review|Wikipedia non-free files with valid backlink',\n",
       "    'source': 'commons-categories',\n",
       "    'hidden': ''},\n",
       "   'Assessments': {'value': '', 'source': 'commons-categories', 'hidden': ''},\n",
       "   'ImageDescription': {'value': '<p>This is a poster for  <i>E.T. the Extra-Terrestrial</i>. <br>The poster art copyright is believed to belong to <a href=\"//en.wikipedia.org/wiki/John_Alvin\" title=\"John Alvin\">John Alvin</a>.\\n</p>',\n",
       "    'source': 'commons-desc-page'},\n",
       "   'Credit': {'value': '<p>The poster art can or could be obtained from <a href=\"//en.wikipedia.org/wiki/John_Alvin\" title=\"John Alvin\">John Alvin</a>.\\n</p>',\n",
       "    'source': 'commons-desc-page',\n",
       "    'hidden': ''},\n",
       "   'LicenseShortName': {'value': 'Fair use',\n",
       "    'source': 'commons-desc-page',\n",
       "    'hidden': ''},\n",
       "   'UsageTerms': {'value': '<a href=\"//en.wikipedia.org/wiki/Wikipedia:Non-free_use_rationale_guideline\" title=\"Wikipedia:Non-free use rationale guideline\">Fair use</a> of copyrighted material in the context of <a href=\"//en.wikipedia.org/wiki/E.T._the_Extra-Terrestrial\" title=\"E.T. the Extra-Terrestrial\">E.T. the Extra-Terrestrial</a>',\n",
       "    'source': 'commons-desc-page',\n",
       "    'hidden': ''},\n",
       "   'Attribution': {'value': '<p>The poster art can or could be obtained from <a href=\"//en.wikipedia.org/wiki/John_Alvin\" title=\"John Alvin\">John Alvin</a>.\\n</p>',\n",
       "    'source': 'commons-desc-page',\n",
       "    'hidden': ''},\n",
       "   'LicenseUrl': {'value': '//en.wikipedia.org/wiki/File:E_t_the_extra_terrestrial_ver3.jpg',\n",
       "    'source': 'commons-desc-page',\n",
       "    'hidden': ''},\n",
       "   'NonFree': {'value': 'true', 'source': 'commons-desc-page', 'hidden': ''},\n",
       "   'Copyrighted': {'value': 'True',\n",
       "    'source': 'commons-desc-page',\n",
       "    'hidden': ''},\n",
       "   'Restrictions': {'value': '',\n",
       "    'source': 'commons-desc-page',\n",
       "    'hidden': ''}}},\n",
       " {'file': 'File:ET logo 3.svg',\n",
       "  'kind': 'wikidata-image',\n",
       "  'orig': 'ET logo 3.svg',\n",
       "  'timestamp': '2011-05-14T20:38:17Z',\n",
       "  'size': 77290,\n",
       "  'width': 512,\n",
       "  'height': 380,\n",
       "  'url': 'https://upload.wikimedia.org/wikipedia/commons/8/85/ET_logo_3.svg',\n",
       "  'descriptionurl': 'https://commons.wikimedia.org/wiki/File:ET_logo_3.svg',\n",
       "  'descriptionshorturl': 'https://commons.wikimedia.org/w/index.php?curid=14138952',\n",
       "  'title': 'File:ET logo 3.svg',\n",
       "  'metadata': {'DateTime': {'value': '2011-05-14 20:38:17',\n",
       "    'source': 'mediawiki-metadata',\n",
       "    'hidden': ''},\n",
       "   'ObjectName': {'value': 'ET logo 3',\n",
       "    'source': 'mediawiki-metadata',\n",
       "    'hidden': ''},\n",
       "   'CommonsMetadataExtension': {'value': 1.2,\n",
       "    'source': 'extension',\n",
       "    'hidden': ''},\n",
       "   'Categories': {'value': 'E.T. the Extra-Terrestrial|PD textlogo|SVG text logos|With trademark',\n",
       "    'source': 'commons-categories',\n",
       "    'hidden': ''},\n",
       "   'Assessments': {'value': '', 'source': 'commons-categories', 'hidden': ''},\n",
       "   'ImageDescription': {'value': 'Opening logo to the <a href=\"https://en.wikipedia.org/wiki/E.T._the_Extra-Terrestrial\" class=\"extiw\" title=\"en:E.T. the Extra-Terrestrial\">en:E.T. the Extra-Terrestrial</a> film',\n",
       "    'source': 'commons-desc-page'},\n",
       "   'DateTimeOriginal': {'value': '2011-02-28', 'source': 'commons-desc-page'},\n",
       "   'Credit': {'value': 'Transferred from <a class=\"external text\" href=\"https://en.wikipedia.org\">en.wikipedia</a>',\n",
       "    'source': 'commons-desc-page',\n",
       "    'hidden': ''},\n",
       "   'Artist': {'value': '<a href=\"https://en.wikipedia.org/wiki/en:User:TheCuriousGnome\" class=\"extiw\" title=\"w:en:User:TheCuriousGnome\">User:TheCuriousGnome</a>',\n",
       "    'source': 'commons-desc-page'},\n",
       "   'LicenseShortName': {'value': 'Public domain',\n",
       "    'source': 'commons-desc-page',\n",
       "    'hidden': ''},\n",
       "   'UsageTerms': {'value': 'Public domain',\n",
       "    'source': 'commons-desc-page',\n",
       "    'hidden': ''},\n",
       "   'AttributionRequired': {'value': 'false',\n",
       "    'source': 'commons-desc-page',\n",
       "    'hidden': ''},\n",
       "   'Copyrighted': {'value': 'False',\n",
       "    'source': 'commons-desc-page',\n",
       "    'hidden': ''},\n",
       "   'Restrictions': {'value': 'trademarked',\n",
       "    'source': 'commons-desc-page',\n",
       "    'hidden': ''},\n",
       "   'License': {'value': 'pd', 'source': 'commons-templates', 'hidden': ''}}},\n",
       " {'kind': 'restbase-original',\n",
       "  'width': 253,\n",
       "  'height': 394,\n",
       "  'url': 'https://upload.wikimedia.org/wikipedia/en/6/66/E_t_the_extra_terrestrial_ver3.jpg',\n",
       "  'file': 'File:E t the extra terrestrial ver3.jpg',\n",
       "  'orig': 'E_t_the_extra_terrestrial_ver3.jpg'},\n",
       " {'kind': 'restbase-thumb',\n",
       "  'width': 205,\n",
       "  'height': 320,\n",
       "  'url': 'https://upload.wikimedia.org/wikipedia/en/thumb/6/66/E_t_the_extra_terrestrial_ver3.jpg/205px-E_t_the_extra_terrestrial_ver3.jpg',\n",
       "  'file': 'File:205px-E t the extra terrestrial ver3.jpg',\n",
       "  'orig': '205px-E_t_the_extra_terrestrial_ver3.jpg'}]"
      ]
     },
     "execution_count": 4,
     "metadata": {},
     "output_type": "execute_result"
    }
   ],
   "source": [
    "# Accessing the image attribute will return the images for this page\n",
    "page.data['image']"
   ]
  },
  {
   "cell_type": "code",
   "execution_count": null,
   "id": "01d3d38a",
   "metadata": {},
   "outputs": [],
   "source": []
  }
 ],
 "metadata": {
  "kernelspec": {
   "display_name": "Python 3 (ipykernel)",
   "language": "python",
   "name": "python3"
  },
  "language_info": {
   "codemirror_mode": {
    "name": "ipython",
    "version": 3
   },
   "file_extension": ".py",
   "mimetype": "text/x-python",
   "name": "python",
   "nbconvert_exporter": "python",
   "pygments_lexer": "ipython3",
   "version": "3.9.12"
  }
 },
 "nbformat": 4,
 "nbformat_minor": 5
}
