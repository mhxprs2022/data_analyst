{
 "cells": [
  {
   "cell_type": "code",
   "execution_count": 1,
   "id": "163fb320",
   "metadata": {},
   "outputs": [],
   "source": [
    "import pandas as pd\n",
    "from matplotlib import pyplot as plt\n",
    "%matplotlib inline\n",
    "pd.set_option('display.max_rows', None)\n",
    "pd.set_option('display.max_columns', None)"
   ]
  },
  {
   "cell_type": "markdown",
   "id": "e2f5a9ef",
   "metadata": {},
   "source": [
    "## Q2 How much have vehicle classes improved in fuel economy?"
   ]
  },
  {
   "cell_type": "code",
   "execution_count": 2,
   "id": "9e7b2229",
   "metadata": {},
   "outputs": [],
   "source": [
    "df_08 = pd.read_csv('clean_08.csv', sep=',')\n",
    "df_18 = pd.read_csv('clean_18.csv', sep=',')"
   ]
  },
  {
   "cell_type": "code",
   "execution_count": 3,
   "id": "fbbf08fc",
   "metadata": {},
   "outputs": [
    {
     "data": {
      "text/plain": [
       "veh_class\n",
       "SUV              16.507143\n",
       "large car        15.836364\n",
       "midsize car      18.826087\n",
       "minivan          16.882353\n",
       "pickup           14.578313\n",
       "small car        18.372372\n",
       "station wagon    19.633333\n",
       "van              13.142857\n",
       "Name: city_mpg, dtype: float64"
      ]
     },
     "execution_count": 3,
     "metadata": {},
     "output_type": "execute_result"
    }
   ],
   "source": [
    "city_mpg_08 = df_08.groupby('veh_class').mean().city_mpg\n",
    "city_mpg_08"
   ]
  },
  {
   "cell_type": "code",
   "execution_count": 4,
   "id": "0a7600b8",
   "metadata": {},
   "outputs": [
    {
     "data": {
      "text/plain": [
       "veh_class\n",
       "large car          20.420455\n",
       "midsize car        24.862319\n",
       "minivan            18.000000\n",
       "pickup             16.551282\n",
       "small SUV          21.666667\n",
       "small car          22.561404\n",
       "special purpose    16.600000\n",
       "standard SUV       16.011628\n",
       "station wagon      24.705882\n",
       "Name: city_mpg, dtype: float64"
      ]
     },
     "execution_count": 4,
     "metadata": {},
     "output_type": "execute_result"
    }
   ],
   "source": [
    "city_mpg_18 = df_18.groupby('veh_class').mean().city_mpg\n",
    "city_mpg_18"
   ]
  },
  {
   "cell_type": "code",
   "execution_count": null,
   "id": "7b6c4c67",
   "metadata": {},
   "outputs": [],
   "source": []
  },
  {
   "cell_type": "code",
   "execution_count": 5,
   "id": "b21eca86",
   "metadata": {},
   "outputs": [
    {
     "data": {
      "text/plain": [
       "veh_class\n",
       "SUV              21.935714\n",
       "large car        23.345455\n",
       "midsize car      26.565217\n",
       "minivan          23.705882\n",
       "pickup           19.204819\n",
       "small car        25.963964\n",
       "station wagon    27.116667\n",
       "van              17.333333\n",
       "Name: hwy_mpg, dtype: float64"
      ]
     },
     "execution_count": 5,
     "metadata": {},
     "output_type": "execute_result"
    }
   ],
   "source": [
    "df_08.groupby('veh_class').mean().hwy_mpg"
   ]
  },
  {
   "cell_type": "code",
   "execution_count": 6,
   "id": "e0c5809b",
   "metadata": {},
   "outputs": [
    {
     "data": {
      "text/plain": [
       "veh_class\n",
       "large car          28.795455\n",
       "midsize car        33.057971\n",
       "minivan            25.400000\n",
       "pickup             22.012821\n",
       "small SUV          27.879630\n",
       "small car          30.435088\n",
       "special purpose    21.300000\n",
       "standard SUV       21.953488\n",
       "station wagon      32.058824\n",
       "Name: hwy_mpg, dtype: float64"
      ]
     },
     "execution_count": 6,
     "metadata": {},
     "output_type": "execute_result"
    }
   ],
   "source": [
    "df_18.groupby('veh_class').mean().hwy_mpg"
   ]
  },
  {
   "cell_type": "code",
   "execution_count": null,
   "id": "4c9e6670",
   "metadata": {},
   "outputs": [],
   "source": []
  },
  {
   "cell_type": "code",
   "execution_count": 7,
   "id": "6eafc058",
   "metadata": {},
   "outputs": [],
   "source": [
    "veh_08 = df_08.groupby('veh_class').mean().cmb_mpg"
   ]
  },
  {
   "cell_type": "code",
   "execution_count": 8,
   "id": "4100013b",
   "metadata": {},
   "outputs": [],
   "source": [
    "veh_18 = df_18.groupby('veh_class').cmb_mpg.mean()"
   ]
  },
  {
   "cell_type": "code",
   "execution_count": 9,
   "id": "0c638217",
   "metadata": {},
   "outputs": [
    {
     "data": {
      "text/plain": [
       "veh_class\n",
       "SUV                     NaN\n",
       "large car          4.900000\n",
       "midsize car        6.282609\n",
       "minivan            1.682353\n",
       "pickup             2.312635\n",
       "small SUV               NaN\n",
       "small car          4.315948\n",
       "special purpose         NaN\n",
       "standard SUV            NaN\n",
       "station wagon      5.162745\n",
       "van                     NaN\n",
       "Name: cmb_mpg, dtype: float64"
      ]
     },
     "execution_count": 9,
     "metadata": {},
     "output_type": "execute_result"
    }
   ],
   "source": [
    "# how much they've increased by for each vehicle class\n",
    "inc = veh_18 - veh_08\n",
    "inc"
   ]
  },
  {
   "cell_type": "code",
   "execution_count": 10,
   "id": "7fc56fe4",
   "metadata": {},
   "outputs": [
    {
     "data": {
      "image/png": "[encoded data removed]",
      "text/plain": [
       "<Figure size 576x360 with 1 Axes>"
      ]
     },
     "metadata": {
      "needs_background": "light"
     },
     "output_type": "display_data"
    }
   ],
   "source": [
    "# only plot the classes that exist in both years\n",
    "inc.dropna(inplace=True)\n",
    "plt.subplots(figsize=(8, 5))\n",
    "plt.bar(inc.index, inc)\n",
    "plt.title('Improvements in Fuel Economy from 2008 to 2018 by Vehicle Class')\n",
    "plt.xlabel('Vehicle Class')\n",
    "plt.ylabel('Increase in Average Combined MPG');"
   ]
  },
  {
   "cell_type": "code",
   "execution_count": null,
   "id": "aa40334d",
   "metadata": {},
   "outputs": [],
   "source": []
  }
 ],
 "metadata": {
  "kernelspec": {
   "display_name": "Python 3 (ipykernel)",
   "language": "python",
   "name": "python3"
  },
  "language_info": {
   "codemirror_mode": {
    "name": "ipython",
    "version": 3
   },
   "file_extension": ".py",
   "mimetype": "text/x-python",
   "name": "python",
   "nbconvert_exporter": "python",
   "pygments_lexer": "ipython3",
   "version": "3.9.12"
  }
 },
 "nbformat": 4,
 "nbformat_minor": 5
}
