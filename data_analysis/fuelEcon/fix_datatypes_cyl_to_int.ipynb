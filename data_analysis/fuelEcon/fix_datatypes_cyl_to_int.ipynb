{
 "cells": [
  {
   "cell_type": "code",
   "execution_count": 1,
   "id": "d4556887",
   "metadata": {},
   "outputs": [],
   "source": [
    "import pandas as pd\n",
    "pd.set_option('display.max_columns', None)\n",
    "pd.set_option('display.width', None)"
   ]
  },
  {
   "cell_type": "code",
   "execution_count": 2,
   "id": "c26b69b4",
   "metadata": {},
   "outputs": [],
   "source": [
    "df_08 = pd.read_csv('data_08_v2.csv', sep=',')\n",
    "df_18 = pd.read_csv('data_18_v2.csv', sep=',')"
   ]
  },
  {
   "cell_type": "code",
   "execution_count": 9,
   "id": "2fa30435",
   "metadata": {},
   "outputs": [
    {
     "name": "stdout",
     "output_type": "stream",
     "text": [
      "           model  displ      cyl    trans drive      fuel      veh_class  \\\n",
      "0      ACURA MDX    3.7  (6 cyl)  Auto-S5   4WD  Gasoline            SUV   \n",
      "1      ACURA RDX    2.3  (4 cyl)  Auto-S5   4WD  Gasoline            SUV   \n",
      "2       ACURA RL    3.5  (6 cyl)  Auto-S5   4WD  Gasoline    midsize car   \n",
      "3       ACURA TL    3.2  (6 cyl)  Auto-S5   2WD  Gasoline    midsize car   \n",
      "4       ACURA TL    3.5  (6 cyl)  Auto-S5   2WD  Gasoline    midsize car   \n",
      "..           ...    ...      ...      ...   ...       ...            ...   \n",
      "981    VOLVO V70    3.2  (6 cyl)  Auto-S6   2WD  Gasoline  station wagon   \n",
      "982  VOLVO XC 70    3.2  (6 cyl)  Auto-S6   4WD  Gasoline            SUV   \n",
      "983  VOLVO XC 90    3.2  (6 cyl)  Auto-S6   2WD  Gasoline            SUV   \n",
      "984  VOLVO XC 90    3.2  (6 cyl)  Auto-S6   4WD  Gasoline            SUV   \n",
      "985  VOLVO XC 90    4.4  (8 cyl)  Auto-S6   4WD  Gasoline            SUV   \n",
      "\n",
      "    air_pollution_score city_mpg hwy_mpg cmb_mpg greenhouse_gas_score smartway  \n",
      "0                     7       15      20      17                    4       no  \n",
      "1                     7       17      22      19                    5       no  \n",
      "2                     7       16      24      19                    5       no  \n",
      "3                     7       18      26      21                    6      yes  \n",
      "4                     7       17      26      20                    6      yes  \n",
      "..                  ...      ...     ...     ...                  ...      ...  \n",
      "981                   7       16      24      19                    5       no  \n",
      "982                   7       15      22      17                    4       no  \n",
      "983                   7       14      20      16                    4       no  \n",
      "984                   7       14      20      16                    4       no  \n",
      "985                   7       13      19      15                    3       no  \n",
      "\n",
      "[986 rows x 13 columns]\n",
      "           model  displ  cyl       trans drive                  fuel  \\\n",
      "0      ACURA RDX    3.5  6.0  SemiAuto-6   2WD              Gasoline   \n",
      "1      ACURA RDX    3.5  6.0  SemiAuto-6   4WD              Gasoline   \n",
      "2      ACURA TLX    2.4  4.0       AMS-8   2WD              Gasoline   \n",
      "3      ACURA TLX    3.5  6.0  SemiAuto-9   2WD              Gasoline   \n",
      "4      ACURA TLX    3.5  6.0  SemiAuto-9   4WD              Gasoline   \n",
      "..           ...    ...  ...         ...   ...                   ...   \n",
      "789  VOLVO XC 60    2.0  4.0  SemiAuto-8   4WD  Gasoline/Electricity   \n",
      "790  VOLVO XC 90    2.0  4.0  SemiAuto-8   2WD              Gasoline   \n",
      "791  VOLVO XC 90    2.0  4.0  SemiAuto-8   4WD              Gasoline   \n",
      "792  VOLVO XC 90    2.0  4.0  SemiAuto-8   4WD              Gasoline   \n",
      "793  VOLVO XC 90    2.0  4.0  SemiAuto-8   4WD  Gasoline/Electricity   \n",
      "\n",
      "        veh_class  air_pollution_score city_mpg hwy_mpg cmb_mpg  \\\n",
      "0       small SUV                    3       20      28      23   \n",
      "1       small SUV                    3       19      27      22   \n",
      "2       small car                    3       23      33      27   \n",
      "3       small car                    3       20      32      24   \n",
      "4       small car                    3       21      30      24   \n",
      "..            ...                  ...      ...     ...     ...   \n",
      "789     small SUV                    7    26/60   28/58   26/59   \n",
      "790  standard SUV                    5       22      29      25   \n",
      "791  standard SUV                    5       22      28      24   \n",
      "792  standard SUV                    5       20      27      23   \n",
      "793  standard SUV                    7    26/63   30/61   27/62   \n",
      "\n",
      "     greenhouse_gas_score smartway  \n",
      "0                       5       No  \n",
      "1                       4       No  \n",
      "2                       6       No  \n",
      "3                       5       No  \n",
      "4                       5       No  \n",
      "..                    ...      ...  \n",
      "789                    10    Elite  \n",
      "790                     5       No  \n",
      "791                     5       No  \n",
      "792                     5       No  \n",
      "793                    10    Elite  \n",
      "\n",
      "[794 rows x 13 columns]\n"
     ]
    }
   ],
   "source": [
    "print(df_08)\n",
    "print(df_18)"
   ]
  },
  {
   "cell_type": "code",
   "execution_count": 19,
   "id": "bf7c77bb",
   "metadata": {},
   "outputs": [],
   "source": [
    "#print(df_08.dtypes)\n",
    "#print(df_18.dtypes)"
   ]
  },
  {
   "cell_type": "code",
   "execution_count": 14,
   "id": "50eb3da5",
   "metadata": {},
   "outputs": [
    {
     "data": {
      "text/plain": [
       "6     409\n",
       "4     283\n",
       "8     199\n",
       "5      48\n",
       "12     30\n",
       "10     14\n",
       "2       2\n",
       "16      1\n",
       "Name: cyl, dtype: int64"
      ]
     },
     "execution_count": 14,
     "metadata": {},
     "output_type": "execute_result"
    }
   ],
   "source": [
    "df_08['cyl'] = df_08['cyl'].str.extract('(\\d+)').astype(int)\n",
    "df_08['cyl'].value_counts()"
   ]
  },
  {
   "cell_type": "code",
   "execution_count": 15,
   "id": "8d9d15e4",
   "metadata": {},
   "outputs": [
    {
     "data": {
      "text/plain": [
       "4     365\n",
       "6     246\n",
       "8     153\n",
       "3      18\n",
       "12      9\n",
       "5       2\n",
       "16      1\n",
       "Name: cyl, dtype: int64"
      ]
     },
     "execution_count": 15,
     "metadata": {},
     "output_type": "execute_result"
    }
   ],
   "source": [
    "df_18['cyl'] = df_18['cyl'].astype(int)\n",
    "df_18['cyl'].value_counts()"
   ]
  },
  {
   "cell_type": "code",
   "execution_count": 16,
   "id": "0a58d2cc",
   "metadata": {},
   "outputs": [],
   "source": [
    "df_08.to_csv('data_08_v3.csv', index=False)\n",
    "df_18.to_csv('data_18_v3.csv', index=False)"
   ]
  },
  {
   "cell_type": "code",
   "execution_count": null,
   "id": "b2be5fa9",
   "metadata": {},
   "outputs": [],
   "source": []
  }
 ],
 "metadata": {
  "kernelspec": {
   "display_name": "Python 3 (ipykernel)",
   "language": "python",
   "name": "python3"
  },
  "language_info": {
   "codemirror_mode": {
    "name": "ipython",
    "version": 3
   },
   "file_extension": ".py",
   "mimetype": "text/x-python",
   "name": "python",
   "nbconvert_exporter": "python",
   "pygments_lexer": "ipython3",
   "version": "3.9.12"
  }
 },
 "nbformat": 4,
 "nbformat_minor": 5
}
