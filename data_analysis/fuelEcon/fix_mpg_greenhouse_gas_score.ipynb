{
 "cells": [
  {
   "cell_type": "code",
   "execution_count": 1,
   "id": "c19fadad",
   "metadata": {},
   "outputs": [],
   "source": [
    "import pandas as pd"
   ]
  },
  {
   "cell_type": "code",
   "execution_count": 2,
   "id": "d249693e",
   "metadata": {},
   "outputs": [],
   "source": [
    "df_08 = pd.read_csv('data_08_v4.csv', sep=',')\n",
    "df_18 = pd.read_csv('data_18_v4.csv', sep=',')"
   ]
  },
  {
   "cell_type": "code",
   "execution_count": 5,
   "id": "da2a57ed",
   "metadata": {},
   "outputs": [
    {
     "name": "stdout",
     "output_type": "stream",
     "text": [
      "       model  displ  cyl    trans drive      fuel veh_class  \\\n",
      "0  ACURA MDX    3.7    6  Auto-S5   4WD  Gasoline       SUV   \n",
      "\n",
      "   air_pollution_score  city_mpg  hwy_mpg  cmb_mpg  greenhouse_gas_score  \\\n",
      "0                  7.0        15       20       17                     4   \n",
      "\n",
      "  smartway  \n",
      "0       no  \n",
      "-------------------------------------\n",
      "       model  displ  cyl       trans drive      fuel  veh_class  \\\n",
      "0  ACURA RDX    3.5    6  SemiAuto-6   2WD  Gasoline  small SUV   \n",
      "\n",
      "   air_pollution_score  city_mpg  hwy_mpg  cmb_mpg  greenhouse_gas_score  \\\n",
      "0                  3.0        20       28       23                     5   \n",
      "\n",
      "  smartway  \n",
      "0       No  \n"
     ]
    }
   ],
   "source": [
    "print(df_08.head(1))\n",
    "print('-------------------------------------')\n",
    "print(df_18.head(1))"
   ]
  },
  {
   "cell_type": "code",
   "execution_count": null,
   "id": "9877f26c",
   "metadata": {},
   "outputs": [],
   "source": []
  },
  {
   "cell_type": "code",
   "execution_count": 11,
   "id": "717f1e55",
   "metadata": {},
   "outputs": [],
   "source": [
    "mpg_columns = ['city_mpg', 'hwy_mpg', 'cmb_mpg']\n",
    "for c in mpg_columns:\n",
    "    df_08[c] = df_08[c].astype(float)\n",
    "    df_18[c] = df_18[c].astype(float)"
   ]
  },
  {
   "cell_type": "code",
   "execution_count": 12,
   "id": "afb8a5a5",
   "metadata": {},
   "outputs": [
    {
     "name": "stdout",
     "output_type": "stream",
     "text": [
      "model                    object\n",
      "displ                   float64\n",
      "cyl                       int64\n",
      "trans                    object\n",
      "drive                    object\n",
      "fuel                     object\n",
      "veh_class                object\n",
      "air_pollution_score     float64\n",
      "city_mpg                float64\n",
      "hwy_mpg                 float64\n",
      "cmb_mpg                 float64\n",
      "greenhouse_gas_score      int64\n",
      "smartway                 object\n",
      "dtype: object\n",
      "------------------\n",
      "model                    object\n",
      "displ                   float64\n",
      "cyl                       int64\n",
      "trans                    object\n",
      "drive                    object\n",
      "fuel                     object\n",
      "veh_class                object\n",
      "air_pollution_score     float64\n",
      "city_mpg                float64\n",
      "hwy_mpg                 float64\n",
      "cmb_mpg                 float64\n",
      "greenhouse_gas_score      int64\n",
      "smartway                 object\n",
      "dtype: object\n"
     ]
    }
   ],
   "source": [
    "print(df_08.dtypes)\n",
    "print('------------------')\n",
    "print(df_18.dtypes)"
   ]
  },
  {
   "cell_type": "code",
   "execution_count": 13,
   "id": "f14dac49",
   "metadata": {},
   "outputs": [
    {
     "data": {
      "text/plain": [
       "model                   True\n",
       "displ                   True\n",
       "cyl                     True\n",
       "trans                   True\n",
       "drive                   True\n",
       "fuel                    True\n",
       "veh_class               True\n",
       "air_pollution_score     True\n",
       "city_mpg                True\n",
       "hwy_mpg                 True\n",
       "cmb_mpg                 True\n",
       "greenhouse_gas_score    True\n",
       "smartway                True\n",
       "dtype: bool"
      ]
     },
     "execution_count": 13,
     "metadata": {},
     "output_type": "execute_result"
    }
   ],
   "source": [
    "df_08.dtypes == df_18.dtypes"
   ]
  },
  {
   "cell_type": "code",
   "execution_count": 14,
   "id": "c5093dc0",
   "metadata": {},
   "outputs": [],
   "source": [
    "# Save your final CLEAN datasets as new files!\n",
    "df_08.to_csv('clean_08.csv', index=False)\n",
    "df_18.to_csv('clean_18.csv', index=False)"
   ]
  },
  {
   "cell_type": "code",
   "execution_count": null,
   "id": "9a2b25a0",
   "metadata": {},
   "outputs": [],
   "source": []
  }
 ],
 "metadata": {
  "kernelspec": {
   "display_name": "Python 3 (ipykernel)",
   "language": "python",
   "name": "python3"
  },
  "language_info": {
   "codemirror_mode": {
    "name": "ipython",
    "version": 3
   },
   "file_extension": ".py",
   "mimetype": "text/x-python",
   "name": "python",
   "nbconvert_exporter": "python",
   "pygments_lexer": "ipython3",
   "version": "3.9.12"
  }
 },
 "nbformat": 4,
 "nbformat_minor": 5
}
