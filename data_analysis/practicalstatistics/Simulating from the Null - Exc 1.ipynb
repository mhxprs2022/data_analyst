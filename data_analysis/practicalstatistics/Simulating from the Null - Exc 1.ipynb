{
 "cells": [
  {
   "cell_type": "markdown",
   "id": "eab82956",
   "metadata": {},
   "source": [
    "### Simulating From the Null Hypothesis - two methods\n",
    "\n",
    "Load in the data below, and use the exercises to assist with answering the quiz questions below.\n",
    "\n",
    "**If you get stuck, notice there is a solution notebook available by clicking on the orange jupyter icon in the top left!**"
   ]
  },
  {
   "cell_type": "markdown",
   "id": "a332953b",
   "metadata": {},
   "source": [
    "H0:  u <= 70   \n",
    "H1:  u > 70"
   ]
  },
  {
   "cell_type": "markdown",
   "id": "9fceabd3",
   "metadata": {},
   "source": [
    "# Method 1"
   ]
  },
  {
   "cell_type": "code",
   "execution_count": 1,
   "id": "4904ad52",
   "metadata": {},
   "outputs": [],
   "source": [
    "#Import libraries, set the seed, and read in the data\n",
    "import pandas as pd\n",
    "import numpy as np\n",
    "import matplotlib.pyplot as plt\n",
    "\n",
    "%matplotlib inline\n",
    "np.random.seed(42)\n",
    "\n",
    "df = pd.read_csv('coffee_dataset.csv')"
   ]
  },
  {
   "cell_type": "code",
   "execution_count": 2,
   "id": "b7506094",
   "metadata": {},
   "outputs": [],
   "source": [
    "#create a sample from our data\n",
    "sample_df = df.sample(150)"
   ]
  },
  {
   "cell_type": "code",
   "execution_count": 3,
   "id": "23734f4a",
   "metadata": {},
   "outputs": [],
   "source": [
    "#create our bootstrap sample\n",
    "bootsample = sample_df.sample(150, replace=True)"
   ]
  },
  {
   "cell_type": "code",
   "execution_count": 4,
   "id": "461905b7",
   "metadata": {},
   "outputs": [],
   "source": [
    "means = []\n",
    "for _ in range(10000):\n",
    "    bootsample = sample_df.sample(150,replace=True)\n",
    "    means.append(bootsample.height.mean())"
   ]
  },
  {
   "cell_type": "code",
   "execution_count": 5,
   "id": "ec90cc70",
   "metadata": {},
   "outputs": [],
   "source": [
    "low, high = np.percentile(means, 2.5), np.percentile(means,97.5)"
   ]
  },
  {
   "cell_type": "code",
   "execution_count": 6,
   "id": "00711eed",
   "metadata": {},
   "outputs": [
    {
     "data": {
      "image/png": "[encoded data removed]",
      "text/plain": [
       "<Figure size 432x288 with 1 Axes>"
      ]
     },
     "metadata": {
      "needs_background": "light"
     },
     "output_type": "display_data"
    }
   ],
   "source": [
    "plt.hist(means);\n",
    "plt.axvline(x=low, color='r', linewidth=2);\n",
    "plt.axvline(x=high, color='r', linewidth=2);"
   ]
  },
  {
   "cell_type": "markdown",
   "id": "ba64a0bf",
   "metadata": {},
   "source": [
    "# Methods 2:  \n",
    "`1` In the hypothesis testing, we first simulate from the closest value to the Alterntive that is still in the null space    "
   ]
  },
  {
   "cell_type": "code",
   "execution_count": 7,
   "id": "7f9453a3",
   "metadata": {},
   "outputs": [
    {
     "data": {
      "text/plain": [
       "0.2658246390555901"
      ]
     },
     "execution_count": 7,
     "metadata": {},
     "output_type": "execute_result"
    }
   ],
   "source": [
    "# means = []\n",
    "# for _ in range(10000):\n",
    "  #  bootsample = sample_df.sample(150,replace=True)\n",
    "  #  means.append(bootsample.height.mean())\n",
    "np.std(means)"
   ]
  },
  {
   "cell_type": "code",
   "execution_count": 8,
   "id": "46438e6f",
   "metadata": {},
   "outputs": [],
   "source": [
    "# simulate using u = 70 and std 10000 time to see if H1 is true what the distribution look like\n",
    "null_vals = np.random.normal(70, np.std(means), 10000)"
   ]
  },
  {
   "cell_type": "code",
   "execution_count": 12,
   "id": "c376a59d",
   "metadata": {},
   "outputs": [
    {
     "data": {
      "image/png": "[encoded data removed]",
      "text/plain": [
       "<Figure size 432x288 with 1 Axes>"
      ]
     },
     "metadata": {
      "needs_background": "light"
     },
     "output_type": "display_data"
    }
   ],
   "source": [
    "plt.hist(null_vals);\n",
    "plt.axvline(x=sample_df.height.mean(), color='r', linewidth=2);"
   ]
  },
  {
   "cell_type": "code",
   "execution_count": 9,
   "id": "798ac6d0",
   "metadata": {},
   "outputs": [
    {
     "data": {
      "text/plain": [
       "67.63297688228066"
      ]
     },
     "execution_count": 9,
     "metadata": {},
     "output_type": "execute_result"
    }
   ],
   "source": [
    "sample_df.height.mean()"
   ]
  },
  {
   "cell_type": "markdown",
   "id": "ae9b6bd3",
   "metadata": {},
   "source": [
    "since 67.63 is far to the left, **therfore H0 is true**"
   ]
  },
  {
   "cell_type": "code",
   "execution_count": 13,
   "id": "74c96934",
   "metadata": {},
   "outputs": [],
   "source": [
    "sample_mean = sample_df.height.mean()"
   ]
  },
  {
   "cell_type": "code",
   "execution_count": 14,
   "id": "77d6b2a1",
   "metadata": {},
   "outputs": [
    {
     "name": "stdout",
     "output_type": "stream",
     "text": [
      "67.63297688228066\n"
     ]
    }
   ],
   "source": [
    "print(sample_mean)"
   ]
  },
  {
   "cell_type": "code",
   "execution_count": 15,
   "id": "ccd4eb1a",
   "metadata": {},
   "outputs": [
    {
     "data": {
      "text/plain": [
       "array([ True,  True,  True, ...,  True,  True,  True])"
      ]
     },
     "execution_count": 15,
     "metadata": {},
     "output_type": "execute_result"
    }
   ],
   "source": [
    "(null_vals > sample_mean)"
   ]
  },
  {
   "cell_type": "code",
   "execution_count": 16,
   "id": "72d04faa",
   "metadata": {},
   "outputs": [
    {
     "data": {
      "text/plain": [
       "1.0"
      ]
     },
     "execution_count": 16,
     "metadata": {},
     "output_type": "execute_result"
    }
   ],
   "source": [
    "# p-value calculation  p=1 indicating that H0 is most likely true\n",
    "(null_vals > sample_mean).mean()"
   ]
  },
  {
   "cell_type": "markdown",
   "id": "1e073f58",
   "metadata": {},
   "source": []
  },
  {
   "cell_type": "markdown",
   "id": "b91edf15",
   "metadata": {},
   "source": [
    "# What if use the following hypothesis?   \n",
    "H0: u >= 70   \n",
    "H1: u < 70   "
   ]
  },
  {
   "cell_type": "code",
   "execution_count": 17,
   "id": "ea61a1b1",
   "metadata": {},
   "outputs": [
    {
     "data": {
      "text/plain": [
       "array([False, False, False, ..., False, False, False])"
      ]
     },
     "execution_count": 17,
     "metadata": {},
     "output_type": "execute_result"
    }
   ],
   "source": [
    "(null_vals < sample_mean)"
   ]
  },
  {
   "cell_type": "code",
   "execution_count": 19,
   "id": "594d4d69",
   "metadata": {},
   "outputs": [
    {
     "data": {
      "text/plain": [
       "0.0"
      ]
     },
     "execution_count": 19,
     "metadata": {},
     "output_type": "execute_result"
    }
   ],
   "source": [
    "# p-value calculation  p = 0, indicating that H1 is most likely true\n",
    "(null_vals < sample_mean).mean()"
   ]
  },
  {
   "cell_type": "markdown",
   "id": "a010aab4",
   "metadata": {},
   "source": [
    "# What if use the following hypothesis?   \n",
    "H0: u = 70   \n",
    "H1: u != 70   "
   ]
  },
  {
   "cell_type": "code",
   "execution_count": null,
   "id": "3a220672",
   "metadata": {},
   "outputs": [],
   "source": []
  },
  {
   "cell_type": "code",
   "execution_count": 24,
   "id": "7d3137d6",
   "metadata": {},
   "outputs": [
    {
     "data": {
      "text/plain": [
       "0.0"
      ]
     },
     "execution_count": 24,
     "metadata": {},
     "output_type": "execute_result"
    }
   ],
   "source": [
    "null_mean = 70\n",
    "(null_vals < sample_mean).mean() + (null_vals > null_mean + (null_mean - sample_mean)).mean()"
   ]
  },
  {
   "cell_type": "code",
   "execution_count": 26,
   "id": "5cfd624f",
   "metadata": {},
   "outputs": [
    {
     "data": {
      "image/png": "[encoded data removed]",
      "text/plain": [
       "<Figure size 432x288 with 1 Axes>"
      ]
     },
     "metadata": {
      "needs_background": "light"
     },
     "output_type": "display_data"
    }
   ],
   "source": [
    "low = sample_mean\n",
    "high = null_mean + (null_mean - sample_mean)\n",
    "\n",
    "plt.hist(null_vals);\n",
    "plt.axvline(x=low, color='r', linewidth=2);\n",
    "plt.axvline(x=high, color='r', linewidth=2);"
   ]
  },
  {
   "cell_type": "code",
   "execution_count": null,
   "id": "7bb088c6",
   "metadata": {},
   "outputs": [],
   "source": []
  }
 ],
 "metadata": {
  "kernelspec": {
   "display_name": "Python 3 (ipykernel)",
   "language": "python",
   "name": "python3"
  },
  "language_info": {
   "codemirror_mode": {
    "name": "ipython",
    "version": 3
   },
   "file_extension": ".py",
   "mimetype": "text/x-python",
   "name": "python",
   "nbconvert_exporter": "python",
   "pygments_lexer": "ipython3",
   "version": "3.9.12"
  }
 },
 "nbformat": 4,
 "nbformat_minor": 5
}
