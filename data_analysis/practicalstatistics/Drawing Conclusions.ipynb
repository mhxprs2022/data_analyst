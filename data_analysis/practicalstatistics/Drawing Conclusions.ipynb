{
 "cells": [
  {
   "cell_type": "markdown",
   "id": "c598feda",
   "metadata": {},
   "source": [
    "### Calculating Errors\n",
    "\n",
    "Here are two datasets that represent two of the examples you have seen in this lesson.  \n",
    "\n",
    "One dataset is based on the parachute example, and the second is based on the judicial example.  Neither of these datasets is based on real people.\n",
    "\n",
    "Use the exercises below to assist in answering the quiz questions at the bottom of this page."
   ]
  },
  {
   "cell_type": "code",
   "execution_count": 1,
   "id": "c0bab08b",
   "metadata": {},
   "outputs": [],
   "source": [
    "import numpy as np\n",
    "import pandas as pd\n",
    "\n",
    "jud_data = pd.read_csv('judicial_dataset_predictions.csv')\n",
    "par_data = pd.read_csv('parachute_dataset.csv')"
   ]
  },
  {
   "cell_type": "code",
   "execution_count": 2,
   "id": "c88670d8",
   "metadata": {},
   "outputs": [
    {
     "data": {
      "text/html": [
       "<div>\n",
       "<style scoped>\n",
       "    .dataframe tbody tr th:only-of-type {\n",
       "        vertical-align: middle;\n",
       "    }\n",
       "\n",
       "    .dataframe tbody tr th {\n",
       "        vertical-align: top;\n",
       "    }\n",
       "\n",
       "    .dataframe thead th {\n",
       "        text-align: right;\n",
       "    }\n",
       "</style>\n",
       "<table border=\"1\" class=\"dataframe\">\n",
       "  <thead>\n",
       "    <tr style=\"text-align: right;\">\n",
       "      <th></th>\n",
       "      <th>defendant_id</th>\n",
       "      <th>actual</th>\n",
       "      <th>predicted</th>\n",
       "    </tr>\n",
       "  </thead>\n",
       "  <tbody>\n",
       "    <tr>\n",
       "      <th>0</th>\n",
       "      <td>22574</td>\n",
       "      <td>innocent</td>\n",
       "      <td>innocent</td>\n",
       "    </tr>\n",
       "    <tr>\n",
       "      <th>1</th>\n",
       "      <td>35637</td>\n",
       "      <td>innocent</td>\n",
       "      <td>innocent</td>\n",
       "    </tr>\n",
       "    <tr>\n",
       "      <th>2</th>\n",
       "      <td>39919</td>\n",
       "      <td>innocent</td>\n",
       "      <td>innocent</td>\n",
       "    </tr>\n",
       "    <tr>\n",
       "      <th>3</th>\n",
       "      <td>29610</td>\n",
       "      <td>guilty</td>\n",
       "      <td>guilty</td>\n",
       "    </tr>\n",
       "    <tr>\n",
       "      <th>4</th>\n",
       "      <td>38273</td>\n",
       "      <td>innocent</td>\n",
       "      <td>innocent</td>\n",
       "    </tr>\n",
       "  </tbody>\n",
       "</table>\n",
       "</div>"
      ],
      "text/plain": [
       "   defendant_id    actual predicted\n",
       "0         22574  innocent  innocent\n",
       "1         35637  innocent  innocent\n",
       "2         39919  innocent  innocent\n",
       "3         29610    guilty    guilty\n",
       "4         38273  innocent  innocent"
      ]
     },
     "execution_count": 2,
     "metadata": {},
     "output_type": "execute_result"
    }
   ],
   "source": [
    "jud_data.head()"
   ]
  },
  {
   "cell_type": "code",
   "execution_count": 3,
   "id": "5f9ef5ec",
   "metadata": {},
   "outputs": [
    {
     "data": {
      "text/html": [
       "<div>\n",
       "<style scoped>\n",
       "    .dataframe tbody tr th:only-of-type {\n",
       "        vertical-align: middle;\n",
       "    }\n",
       "\n",
       "    .dataframe tbody tr th {\n",
       "        vertical-align: top;\n",
       "    }\n",
       "\n",
       "    .dataframe thead th {\n",
       "        text-align: right;\n",
       "    }\n",
       "</style>\n",
       "<table border=\"1\" class=\"dataframe\">\n",
       "  <thead>\n",
       "    <tr style=\"text-align: right;\">\n",
       "      <th></th>\n",
       "      <th>parachute_id</th>\n",
       "      <th>actual</th>\n",
       "      <th>predicted</th>\n",
       "    </tr>\n",
       "  </thead>\n",
       "  <tbody>\n",
       "    <tr>\n",
       "      <th>0</th>\n",
       "      <td>3956</td>\n",
       "      <td>opens</td>\n",
       "      <td>opens</td>\n",
       "    </tr>\n",
       "    <tr>\n",
       "      <th>1</th>\n",
       "      <td>2147</td>\n",
       "      <td>opens</td>\n",
       "      <td>opens</td>\n",
       "    </tr>\n",
       "    <tr>\n",
       "      <th>2</th>\n",
       "      <td>2024</td>\n",
       "      <td>opens</td>\n",
       "      <td>opens</td>\n",
       "    </tr>\n",
       "    <tr>\n",
       "      <th>3</th>\n",
       "      <td>8325</td>\n",
       "      <td>opens</td>\n",
       "      <td>opens</td>\n",
       "    </tr>\n",
       "    <tr>\n",
       "      <th>4</th>\n",
       "      <td>6598</td>\n",
       "      <td>opens</td>\n",
       "      <td>opens</td>\n",
       "    </tr>\n",
       "  </tbody>\n",
       "</table>\n",
       "</div>"
      ],
      "text/plain": [
       "   parachute_id actual predicted\n",
       "0          3956  opens     opens\n",
       "1          2147  opens     opens\n",
       "2          2024  opens     opens\n",
       "3          8325  opens     opens\n",
       "4          6598  opens     opens"
      ]
     },
     "execution_count": 3,
     "metadata": {},
     "output_type": "execute_result"
    }
   ],
   "source": [
    "par_data.head(5)\n",
    "#par_data.actual.unique()"
   ]
  },
  {
   "cell_type": "markdown",
   "id": "44bb4ed1",
   "metadata": {},
   "source": [
    "`1.` Above, you can see the actual and predicted columns for each of the datasets.  Using the **jud_data**, find the proportion of errors for the dataset, and furthermore, the percentage of errors of each type.  Use the results to answer the questions in quiz 1 below.  \n",
    "\n",
    "**Hint for quiz:** an error is any time the prediction doesn't match an actual value.  Additionally, there are Type I and Type II errors to think about.  We also know we can minimize one type of error by maximizing the other type of error.  If we predict all individuals as innocent, how many of the guilty are incorrectly labeled?  Similarly, if we predict all individuals as guilty, how many of the innocent are incorrectly labeled?"
   ]
  },
  {
   "cell_type": "code",
   "execution_count": 4,
   "id": "b9c3c180",
   "metadata": {},
   "outputs": [
    {
     "data": {
      "text/plain": [
       "0.042152958945489497"
      ]
     },
     "execution_count": 4,
     "metadata": {},
     "output_type": "execute_result"
    }
   ],
   "source": [
    "# total number of error\n",
    "jud_data.query('actual != predicted').defendant_id.count() / jud_data.defendant_id.count()"
   ]
  },
  {
   "cell_type": "code",
   "execution_count": 5,
   "id": "5a356211",
   "metadata": {},
   "outputs": [],
   "source": [
    "truth_innocent_people = jud_data.query('actual == \"innocent\"')"
   ]
  },
  {
   "cell_type": "code",
   "execution_count": 6,
   "id": "b8a06924",
   "metadata": {},
   "outputs": [],
   "source": [
    "truth_guilty_people = jud_data.query('actual == \"guilty\"')"
   ]
  },
  {
   "cell_type": "code",
   "execution_count": 7,
   "id": "e5ee4de2",
   "metadata": {},
   "outputs": [],
   "source": [
    "predicted_guilty_people = truth_innocent_people.query('predicted == \"guilty\"')"
   ]
  },
  {
   "cell_type": "code",
   "execution_count": 8,
   "id": "d3fdc6f5",
   "metadata": {},
   "outputs": [],
   "source": [
    "predicted_innocent_people = truth_guilty_people.query('predicted == \"innocent\"')"
   ]
  },
  {
   "cell_type": "code",
   "execution_count": null,
   "id": "28556fe0",
   "metadata": {},
   "outputs": [],
   "source": []
  },
  {
   "cell_type": "code",
   "execution_count": 10,
   "id": "4c3154d8",
   "metadata": {},
   "outputs": [
    {
     "data": {
      "text/plain": [
       "0.001510366607167376"
      ]
     },
     "execution_count": 10,
     "metadata": {},
     "output_type": "execute_result"
    }
   ],
   "source": [
    "# Type I error\n",
    "predicted_guilty_people.defendant_id.count() / jud_data.defendant_id.count()"
   ]
  },
  {
   "cell_type": "code",
   "execution_count": 11,
   "id": "18b43cdc",
   "metadata": {},
   "outputs": [
    {
     "data": {
      "text/plain": [
       "0.04064259233832212"
      ]
     },
     "execution_count": 11,
     "metadata": {},
     "output_type": "execute_result"
    }
   ],
   "source": [
    "# Type II error\n",
    "predicted_innocent_people.defendant_id.count() / jud_data.defendant_id.count()"
   ]
  },
  {
   "cell_type": "code",
   "execution_count": null,
   "id": "27673c8e",
   "metadata": {},
   "outputs": [],
   "source": []
  },
  {
   "cell_type": "code",
   "execution_count": 12,
   "id": "eeecc93a",
   "metadata": {},
   "outputs": [
    {
     "data": {
      "text/plain": [
       "0.45159961554304545"
      ]
     },
     "execution_count": 12,
     "metadata": {},
     "output_type": "execute_result"
    }
   ],
   "source": [
    "#If everyone was predicted to be guilty, the percentage of Type I Errors made.\n",
    "truth_innocent_people.defendant_id.count() / jud_data.defendant_id.count()"
   ]
  },
  {
   "cell_type": "code",
   "execution_count": 22,
   "id": "68796722",
   "metadata": {},
   "outputs": [
    {
     "data": {
      "text/plain": [
       "0"
      ]
     },
     "execution_count": 22,
     "metadata": {},
     "output_type": "execute_result"
    }
   ],
   "source": [
    "#If everyone has prediction of guilty, then no one is predicted inncoent\n",
    "#Therefore, there would be no type 2 errors in this case\n",
    "\n",
    "# Type II errs = pred innocent, but actual = guilty\n",
    "0"
   ]
  },
  {
   "cell_type": "markdown",
   "id": "185c1a19",
   "metadata": {},
   "source": [
    "# the following is for parachute"
   ]
  },
  {
   "cell_type": "code",
   "execution_count": 14,
   "id": "24aac6d5",
   "metadata": {},
   "outputs": [],
   "source": [
    "truth_open = par_data.query(\"actual == 'opens'\")"
   ]
  },
  {
   "cell_type": "code",
   "execution_count": 15,
   "id": "69f64a62",
   "metadata": {},
   "outputs": [],
   "source": [
    "truth_fail = par_data.query(\"actual == 'fails'\")"
   ]
  },
  {
   "cell_type": "code",
   "execution_count": 16,
   "id": "9442e177",
   "metadata": {},
   "outputs": [],
   "source": [
    "predicted_fail = truth_open.query(\"predicted == 'fails'\")"
   ]
  },
  {
   "cell_type": "code",
   "execution_count": 17,
   "id": "febd1886",
   "metadata": {},
   "outputs": [],
   "source": [
    "predicted_open = truth_fail.query(\"predicted == 'opens'\")"
   ]
  },
  {
   "cell_type": "code",
   "execution_count": 18,
   "id": "2c419ad7",
   "metadata": {},
   "outputs": [
    {
     "data": {
      "text/plain": [
       "0.039972551037913875"
      ]
     },
     "execution_count": 18,
     "metadata": {},
     "output_type": "execute_result"
    }
   ],
   "source": [
    "# Total percentage of error\n",
    "par_data.query('actual != predicted').parachute_id.count() / par_data.parachute_id.count()"
   ]
  },
  {
   "cell_type": "code",
   "execution_count": 19,
   "id": "f8ad1e67",
   "metadata": {},
   "outputs": [
    {
     "data": {
      "text/plain": [
       "0.00017155601303825698"
      ]
     },
     "execution_count": 19,
     "metadata": {},
     "output_type": "execute_result"
    }
   ],
   "source": [
    "# Type I error\n",
    "predicted_open.parachute_id.count() / par_data.parachute_id.count()"
   ]
  },
  {
   "cell_type": "code",
   "execution_count": 20,
   "id": "6b22cb46",
   "metadata": {},
   "outputs": [
    {
     "data": {
      "text/plain": [
       "0.03980099502487562"
      ]
     },
     "execution_count": 20,
     "metadata": {},
     "output_type": "execute_result"
    }
   ],
   "source": [
    "# Type II error\n",
    "predicted_fail.parachute_id.count() / par_data.parachute_id.count()"
   ]
  },
  {
   "cell_type": "code",
   "execution_count": 21,
   "id": "ce709046",
   "metadata": {},
   "outputs": [
    {
     "data": {
      "text/plain": [
       "0.008234688625836336"
      ]
     },
     "execution_count": 21,
     "metadata": {},
     "output_type": "execute_result"
    }
   ],
   "source": [
    "# If every parachute is predicted to fail, what is the proportion\n",
    "# of type I errors made?\n",
    "\n",
    "# Type I = pred open, but actual = fail\n",
    "# In the above situation since we have none predicted to open,\n",
    "# we have no type I errors\n"
   ]
  },
  {
   "cell_type": "code",
   "execution_count": 67,
   "id": "3e15920f",
   "metadata": {},
   "outputs": [
    {
     "data": {
      "text/plain": [
       "0.9917653113741637"
      ]
     },
     "execution_count": 67,
     "metadata": {},
     "output_type": "execute_result"
    }
   ],
   "source": [
    "# If every parachute was predicted to not open, the proportion of Type II Errors made.\n",
    "truth_open.parachute_id.count() / par_data.parachute_id.count()"
   ]
  },
  {
   "cell_type": "code",
   "execution_count": null,
   "id": "a8268466",
   "metadata": {},
   "outputs": [],
   "source": []
  }
 ],
 "metadata": {
  "kernelspec": {
   "display_name": "Python 3 (ipykernel)",
   "language": "python",
   "name": "python3"
  },
  "language_info": {
   "codemirror_mode": {
    "name": "ipython",
    "version": 3
   },
   "file_extension": ".py",
   "mimetype": "text/x-python",
   "name": "python",
   "nbconvert_exporter": "python",
   "pygments_lexer": "ipython3",
   "version": "3.9.12"
  }
 },
 "nbformat": 4,
 "nbformat_minor": 5
}
