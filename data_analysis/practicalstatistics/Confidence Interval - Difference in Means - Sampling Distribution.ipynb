{
 "cells": [
  {
   "cell_type": "markdown",
   "id": "8b112d4d",
   "metadata": {},
   "source": [
    "### Confidence Interval - Difference In Means\n",
    "\n",
    "Here you will look through the example from the last video, but you will also go a couple of steps further into what might actually be going on with this data."
   ]
  },
  {
   "cell_type": "code",
   "execution_count": 3,
   "id": "9d24b6df",
   "metadata": {},
   "outputs": [],
   "source": [
    "import pandas as pd\n",
    "import numpy as np\n",
    "import matplotlib.pyplot as plt\n",
    "\n",
    "%matplotlib inline\n",
    "np.random.seed(42)\n",
    "\n",
    "full_data = pd.read_csv('coffee_dataset.csv')\n",
    "sample_data = full_data.sample(200)"
   ]
  },
  {
   "cell_type": "markdown",
   "id": "820b6fad",
   "metadata": {},
   "source": [
    "`1.` For 10,000 iterations, bootstrap sample your sample data, compute the difference in the average heights for coffee and non-coffee drinkers.  Build a 99% confidence interval using your sampling distribution.  Use your interval to start answering the first quiz question below."
   ]
  },
  {
   "cell_type": "code",
   "execution_count": 6,
   "id": "37d05a93",
   "metadata": {},
   "outputs": [],
   "source": [
    "boot_means_height_diff =[]\n",
    "for _ in range(10000):\n",
    "    boot = sample_data.sample(200, replace=True)\n",
    "    boot_mean_coffee = boot.query('drinks_coffee == True').height.mean()\n",
    "    boot_mean_coffee_no = boot.query('drinks_coffee == False').height.mean()\n",
    "    height_diff = boot_mean_coffee - boot_mean_coffee_no\n",
    "    boot_means_height_diff.append(height_diff)"
   ]
  },
  {
   "cell_type": "code",
   "execution_count": 7,
   "id": "8f49931a",
   "metadata": {},
   "outputs": [
    {
     "data": {
      "image/png": "[encoded data removed]",
      "text/plain": [
       "<Figure size 432x288 with 1 Axes>"
      ]
     },
     "metadata": {
      "needs_background": "light"
     },
     "output_type": "display_data"
    }
   ],
   "source": [
    "plt.hist(boot_means_height_diff);"
   ]
  },
  {
   "cell_type": "code",
   "execution_count": 8,
   "id": "4dc94507",
   "metadata": {},
   "outputs": [
    {
     "data": {
      "text/plain": [
       "(0.10258900080921117, 2.538833370796657)"
      ]
     },
     "execution_count": 8,
     "metadata": {},
     "output_type": "execute_result"
    }
   ],
   "source": [
    "np.percentile(boot_means_height_diff, 0.5), np.percentile(boot_means_height_diff, 99.5)"
   ]
  },
  {
   "cell_type": "markdown",
   "id": "b16ff6f8",
   "metadata": {},
   "source": [
    "`2.` For 10,000 iterations, bootstrap sample your sample data, compute the difference in the average heights for those older than 21 and those younger than 21.  Build a 99% confidence interval using your sampling distribution.  Use your interval to finish answering the first quiz question below.  "
   ]
  },
  {
   "cell_type": "code",
   "execution_count": 9,
   "id": "fdfcf33e",
   "metadata": {},
   "outputs": [],
   "source": [
    "boot_means_age_diff =[]\n",
    "for _ in range(10000):\n",
    "    boot = sample_data.sample(200, replace=True)\n",
    "    boot_mean_older   = boot.query('age == \">=21\"').height.mean()\n",
    "    boot_mean_younger = boot.query('age == \"<21\"').height.mean()\n",
    "    age_diff = boot_mean_older - boot_mean_younger\n",
    "    boot_means_age_diff.append(age_diff)"
   ]
  },
  {
   "cell_type": "code",
   "execution_count": 10,
   "id": "8d944624",
   "metadata": {},
   "outputs": [
    {
     "data": {
      "image/png": "[encoded data removed]",
      "text/plain": [
       "<Figure size 432x288 with 1 Axes>"
      ]
     },
     "metadata": {
      "needs_background": "light"
     },
     "output_type": "display_data"
    }
   ],
   "source": [
    "plt.hist(boot_means_age_diff);"
   ]
  },
  {
   "cell_type": "code",
   "execution_count": 11,
   "id": "c00b7085",
   "metadata": {},
   "outputs": [
    {
     "data": {
      "text/plain": [
       "(3.3652749452554938, 5.0932450670661495)"
      ]
     },
     "execution_count": 11,
     "metadata": {},
     "output_type": "execute_result"
    }
   ],
   "source": [
    "np.percentile(boot_means_age_diff, 0.5), np.percentile(boot_means_age_diff, 99.5)"
   ]
  },
  {
   "cell_type": "markdown",
   "id": "d35931ca",
   "metadata": {},
   "source": [
    "`3.` For 10,000 iterations bootstrap your sample data, compute the **difference** in the average height for coffee drinkers and the average height for non-coffee drinkers for individuals **under** 21 years old.  Using your sampling distribution, build a 95% confidence interval.  Use your interval to start answering question 2 below."
   ]
  },
  {
   "cell_type": "code",
   "execution_count": 15,
   "id": "756ac4b5",
   "metadata": {},
   "outputs": [],
   "source": [
    "boot_means_coffee_under21_diff =[]\n",
    "for _ in range(10000):\n",
    "    boot = sample_data.sample(200, replace=True)\n",
    "    boot_mean_coffee_under21 = boot.query('(age == \"<21\") and (drinks_coffee == True)').height.mean()\n",
    "    boot_mean_nocoff_under21 = boot.query('(age == \"<21\") and (drinks_coffee == False)').height.mean()\n",
    "    diff = boot_mean_coffee_under21 - boot_mean_nocoff_under21\n",
    "    boot_means_coffee_under21_diff.append(diff)"
   ]
  },
  {
   "cell_type": "code",
   "execution_count": 16,
   "id": "f54e2249",
   "metadata": {},
   "outputs": [
    {
     "data": {
      "image/png": "[encoded data removed]",
      "text/plain": [
       "<Figure size 432x288 with 1 Axes>"
      ]
     },
     "metadata": {
      "needs_background": "light"
     },
     "output_type": "display_data"
    }
   ],
   "source": [
    "plt.hist(boot_means_coffee_under21_diff);"
   ]
  },
  {
   "cell_type": "code",
   "execution_count": 17,
   "id": "b8f200c9",
   "metadata": {},
   "outputs": [
    {
     "data": {
      "text/plain": [
       "(-2.625869766046173, -1.0809572510875003)"
      ]
     },
     "execution_count": 17,
     "metadata": {},
     "output_type": "execute_result"
    }
   ],
   "source": [
    "np.percentile(boot_means_coffee_under21_diff, 2.5), np.percentile(boot_means_coffee_under21_diff, 97.5)"
   ]
  },
  {
   "cell_type": "markdown",
   "id": "0f088d30",
   "metadata": {},
   "source": [
    "`4.` For 10,000 iterations bootstrap your sample data, compute the **difference** in the average height for coffee drinkers and the average height for non-coffee drinkers for individuals **over** 21 years old.  Using your sampling distribution, build a 95% confidence interval. Use your interval to finish answering the second quiz question below. As well as the following questions. "
   ]
  },
  {
   "cell_type": "code",
   "execution_count": 18,
   "id": "58de8d44",
   "metadata": {},
   "outputs": [],
   "source": [
    "boot_means_coffee_over21_diff =[]\n",
    "for _ in range(10000):\n",
    "    boot = sample_data.sample(200, replace=True)\n",
    "    boot_mean_coffee_over21 = boot.query('(age == \">=21\") and (drinks_coffee == True)').height.mean()\n",
    "    boot_mean_nocoff_over21 = boot.query('(age == \">=21\") and (drinks_coffee == False)').height.mean()\n",
    "    diff = boot_mean_coffee_over21 - boot_mean_nocoff_over21\n",
    "    boot_means_coffee_over21_diff.append(diff)"
   ]
  },
  {
   "cell_type": "code",
   "execution_count": 19,
   "id": "b1feb04a",
   "metadata": {},
   "outputs": [
    {
     "data": {
      "image/png": "[encoded data removed]",
      "text/plain": [
       "<Figure size 432x288 with 1 Axes>"
      ]
     },
     "metadata": {
      "needs_background": "light"
     },
     "output_type": "display_data"
    }
   ],
   "source": [
    "plt.hist(boot_means_coffee_over21_diff);"
   ]
  },
  {
   "cell_type": "code",
   "execution_count": 20,
   "id": "30d14daa",
   "metadata": {},
   "outputs": [
    {
     "data": {
      "text/plain": [
       "(-4.408029942439456, -1.8281567318141632)"
      ]
     },
     "execution_count": 20,
     "metadata": {},
     "output_type": "execute_result"
    }
   ],
   "source": [
    "np.percentile(boot_means_coffee_over21_diff, 2.5), np.percentile(boot_means_coffee_over21_diff, 97.5)"
   ]
  },
  {
   "cell_type": "code",
   "execution_count": null,
   "id": "6b8220e2",
   "metadata": {},
   "outputs": [],
   "source": []
  }
 ],
 "metadata": {
  "kernelspec": {
   "display_name": "Python 3 (ipykernel)",
   "language": "python",
   "name": "python3"
  },
  "language_info": {
   "codemirror_mode": {
    "name": "ipython",
    "version": 3
   },
   "file_extension": ".py",
   "mimetype": "text/x-python",
   "name": "python",
   "nbconvert_exporter": "python",
   "pygments_lexer": "ipython3",
   "version": "3.9.12"
  }
 },
 "nbformat": 4,
 "nbformat_minor": 5
}
