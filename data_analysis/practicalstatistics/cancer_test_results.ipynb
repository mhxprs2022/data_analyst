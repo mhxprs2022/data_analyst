{
 "cells": [
  {
   "cell_type": "markdown",
   "metadata": {
    "collapsed": true
   },
   "source": [
    "# Cancer Test Results"
   ]
  },
  {
   "cell_type": "code",
   "execution_count": 11,
   "metadata": {},
   "outputs": [
    {
     "name": "stdout",
     "output_type": "stream",
     "text": [
      "   patient_id test_result  has_cancer\n",
      "0       79452    Negative       False\n",
      "1       81667    Positive        True\n",
      "2       76297    Negative       False\n",
      "3       36593    Negative       False\n",
      "4       53717    Negative       False\n",
      "<class 'pandas.core.frame.DataFrame'>\n",
      "RangeIndex: 2914 entries, 0 to 2913\n",
      "Data columns (total 3 columns):\n",
      "patient_id     2914 non-null int64\n",
      "test_result    2914 non-null object\n",
      "has_cancer     2914 non-null bool\n",
      "dtypes: bool(1), int64(1), object(1)\n",
      "memory usage: 48.5+ KB\n",
      "None\n",
      "patient_id     0\n",
      "test_result    0\n",
      "has_cancer     0\n",
      "dtype: int64\n",
      "(2914, 3)\n"
     ]
    }
   ],
   "source": [
    "# load dataset\n",
    "import numpy as np\n",
    "import matplotlib.pyplot as plt\n",
    "%matplotlib inline\n",
    "import pandas as pd\n",
    "\n",
    "df_cancer_data = pd.read_csv('cancer_test_data.csv', sep=',')\n",
    "print(df_cancer_data.head())\n",
    "print(df_cancer_data.info())\n",
    "print(df_cancer_data.isnull().sum())\n",
    "print(df_cancer_data.shape)"
   ]
  },
  {
   "cell_type": "code",
   "execution_count": 27,
   "metadata": {},
   "outputs": [
    {
     "data": {
      "text/plain": [
       "2914"
      ]
     },
     "execution_count": 27,
     "metadata": {},
     "output_type": "execute_result"
    }
   ],
   "source": [
    "# number of patients\n",
    "number_of_patients = df_cancer_data.patient_id.count()\n",
    "number_of_patients"
   ]
  },
  {
   "cell_type": "code",
   "execution_count": 32,
   "metadata": {},
   "outputs": [
    {
     "data": {
      "text/plain": [
       "306"
      ]
     },
     "execution_count": 32,
     "metadata": {},
     "output_type": "execute_result"
    }
   ],
   "source": [
    "# number of patients with cancer\n",
    "num_of_patient_cancer = df_cancer_data.query(\"has_cancer == True\").patient_id.count()\n",
    "num_of_patient_cancer"
   ]
  },
  {
   "cell_type": "code",
   "execution_count": 33,
   "metadata": {},
   "outputs": [
    {
     "data": {
      "text/plain": [
       "2608"
      ]
     },
     "execution_count": 33,
     "metadata": {},
     "output_type": "execute_result"
    }
   ],
   "source": [
    "# number of patients without cancer\n",
    "num_of_patient_no_cancer = df_cancer_data.query(\"has_cancer == False\").patient_id.count()\n",
    "num_of_patient_no_cancer"
   ]
  },
  {
   "cell_type": "code",
   "execution_count": 56,
   "metadata": {},
   "outputs": [
    {
     "data": {
      "text/plain": [
       "0.10501029512697323"
      ]
     },
     "execution_count": 56,
     "metadata": {},
     "output_type": "execute_result"
    }
   ],
   "source": [
    "# proportion of patients with cancer\n",
    "P_Cplus = num_of_patient_cancer / number_of_patients\n",
    "P_Cplus"
   ]
  },
  {
   "cell_type": "code",
   "execution_count": 57,
   "metadata": {},
   "outputs": [
    {
     "data": {
      "text/plain": [
       "0.89498970487302676"
      ]
     },
     "execution_count": 57,
     "metadata": {},
     "output_type": "execute_result"
    }
   ],
   "source": [
    "# proportion of patients without cancer\n",
    "P_Cneg = num_of_patient_no_cancer / number_of_patients\n",
    "P_Cneg"
   ]
  },
  {
   "cell_type": "code",
   "execution_count": 58,
   "metadata": {},
   "outputs": [
    {
     "data": {
      "text/plain": [
       "0.90522875816993464"
      ]
     },
     "execution_count": 58,
     "metadata": {},
     "output_type": "execute_result"
    }
   ],
   "source": [
    "# proportion of patients with cancer who test positive\n",
    "num_of_patient_cancer_positive = df_cancer_data.query(\"has_cancer == True and test_result == 'Positive'\").patient_id.count()\n",
    "num_of_patient_cancer_positive\n",
    "P_Tplus_Cplus = num_of_patient_cancer_positive / num_of_patient_cancer\n",
    "P_Tplus_Cplus"
   ]
  },
  {
   "cell_type": "code",
   "execution_count": 59,
   "metadata": {},
   "outputs": [
    {
     "data": {
      "text/plain": [
       "0.094771241830065356"
      ]
     },
     "execution_count": 59,
     "metadata": {},
     "output_type": "execute_result"
    }
   ],
   "source": [
    "# proportion of patients with cancer who test negative\n",
    "num_of_patient_cancer_negative = df_cancer_data.query(\"has_cancer == True and test_result == 'Negative'\").patient_id.count()\n",
    "num_of_patient_cancer_negative\n",
    "P_Tneg_Cplus = num_of_patient_cancer_negative / num_of_patient_cancer\n",
    "P_Tneg_Cplus"
   ]
  },
  {
   "cell_type": "code",
   "execution_count": 60,
   "metadata": {},
   "outputs": [
    {
     "data": {
      "text/plain": [
       "0.2036042944785276"
      ]
     },
     "execution_count": 60,
     "metadata": {},
     "output_type": "execute_result"
    }
   ],
   "source": [
    "# proportion of patients without cancer who test positive\n",
    "num_of_patient_no_cancer_positive = df_cancer_data.query(\"has_cancer == False and test_result == 'Positive'\").patient_id.count()\n",
    "num_of_patient_no_cancer_positive\n",
    "P_Tplus_Cneg = num_of_patient_no_cancer_positive / num_of_patient_no_cancer\n",
    "P_Tplus_Cneg"
   ]
  },
  {
   "cell_type": "code",
   "execution_count": 62,
   "metadata": {},
   "outputs": [
    {
     "data": {
      "text/plain": [
       "0.79639570552147243"
      ]
     },
     "execution_count": 62,
     "metadata": {},
     "output_type": "execute_result"
    }
   ],
   "source": [
    "# proportion of patients without cancer who test negative\n",
    "num_of_patient_no_cancer_negative = df_cancer_data.query(\"has_cancer == False and test_result == 'Negative'\").patient_id.count()\n",
    "num_of_patient_no_cancer_negative\n",
    "P_Tneg_Cneg = num_of_patient_no_cancer_negative / num_of_patient_no_cancer\n",
    "P_Tneg_Cneg"
   ]
  },
  {
   "cell_type": "markdown",
   "metadata": {},
   "source": [
    "# Conditional Probability & Bayes Rule -  quick way to use Python to do it"
   ]
  },
  {
   "cell_type": "code",
   "execution_count": 64,
   "metadata": {},
   "outputs": [
    {
     "data": {
      "text/plain": [
       "0.34282178217821785"
      ]
     },
     "execution_count": 64,
     "metadata": {},
     "output_type": "execute_result"
    }
   ],
   "source": [
    "# What proportion of patients who tested positive have cancer?\n",
    "df_cancer_data.query('test_result == \"Positive\"')['has_cancer'].mean()"
   ]
  },
  {
   "cell_type": "code",
   "execution_count": 65,
   "metadata": {},
   "outputs": [
    {
     "data": {
      "text/plain": [
       "0.65717821782178221"
      ]
     },
     "execution_count": 65,
     "metadata": {},
     "output_type": "execute_result"
    }
   ],
   "source": [
    "# What proportion of patients who tested positive don't have cancer?\n",
    "1 - df_cancer_data.query('test_result == \"Positive\"')['has_cancer'].mean()"
   ]
  },
  {
   "cell_type": "code",
   "execution_count": 66,
   "metadata": {},
   "outputs": [
    {
     "data": {
      "text/plain": [
       "0.013770180436847104"
      ]
     },
     "execution_count": 66,
     "metadata": {},
     "output_type": "execute_result"
    }
   ],
   "source": [
    "# What proportion of patients who tested negative have cancer?\n",
    "df_cancer_data.query('test_result == \"Negative\"')['has_cancer'].mean()"
   ]
  },
  {
   "cell_type": "code",
   "execution_count": 67,
   "metadata": {},
   "outputs": [
    {
     "data": {
      "text/plain": [
       "0.98622981956315292"
      ]
     },
     "execution_count": 67,
     "metadata": {},
     "output_type": "execute_result"
    }
   ],
   "source": [
    "# What proportion of patients who tested negative don't have cancer?\n",
    "1 - df_cancer_data.query('test_result == \"Negative\"')['has_cancer'].mean()"
   ]
  },
  {
   "cell_type": "code",
   "execution_count": null,
   "metadata": {},
   "outputs": [],
   "source": []
  },
  {
   "cell_type": "code",
   "execution_count": null,
   "metadata": {},
   "outputs": [],
   "source": []
  }
 ],
 "metadata": {
  "kernelspec": {
   "display_name": "Python 3 (ipykernel)",
   "language": "python",
   "name": "python3"
  },
  "language_info": {
   "codemirror_mode": {
    "name": "ipython",
    "version": 3
   },
   "file_extension": ".py",
   "mimetype": "text/x-python",
   "name": "python",
   "nbconvert_exporter": "python",
   "pygments_lexer": "ipython3",
   "version": "3.9.12"
  }
 },
 "nbformat": 4,
 "nbformat_minor": 2
}
