{
 "cells": [
  {
   "cell_type": "markdown",
   "id": "aaed5df3",
   "metadata": {},
   "source": [
    "### Notation Notebook\n",
    "\n",
    "Use the information in this notebook to assist with answering the following quiz questions below the notebook.  Let's begin by creating a **population dataset** stored in **pop_data** and importing some libraries"
   ]
  },
  {
   "cell_type": "code",
   "execution_count": 1,
   "id": "c1a8e854",
   "metadata": {},
   "outputs": [
    {
     "data": {
      "text/plain": [
       "array([ 46.926809  , 301.01214309, 131.67456935, ...,  37.07562782,\n",
       "        34.25544405, 205.11576037])"
      ]
     },
     "execution_count": 1,
     "metadata": {},
     "output_type": "execute_result"
    }
   ],
   "source": [
    "import numpy as np\n",
    "import matplotlib.pyplot as plt\n",
    "\n",
    "%matplotlib inline\n",
    "np.random.seed(42)\n",
    "\n",
    "pop_data = np.random.gamma(1,100, 3000)\n",
    "pop_data\n",
    "#plt.hist(pop_data);"
   ]
  },
  {
   "cell_type": "code",
   "execution_count": 2,
   "id": "4202944b",
   "metadata": {},
   "outputs": [
    {
     "data": {
      "text/plain": [
       "3000"
      ]
     },
     "execution_count": 2,
     "metadata": {},
     "output_type": "execute_result"
    }
   ],
   "source": [
    "len(pop_data)"
   ]
  },
  {
   "cell_type": "markdown",
   "id": "db82e2b6",
   "metadata": {},
   "source": [
    "`1.` What is the population mean?"
   ]
  },
  {
   "cell_type": "code",
   "execution_count": 3,
   "id": "b6eeefda",
   "metadata": {},
   "outputs": [
    {
     "data": {
      "text/plain": [
       "100.35978700795846"
      ]
     },
     "execution_count": 3,
     "metadata": {},
     "output_type": "execute_result"
    }
   ],
   "source": [
    "pop_data.mean()"
   ]
  },
  {
   "cell_type": "markdown",
   "id": "06fecf68",
   "metadata": {},
   "source": [
    "`2.` Randomly select 10 draws from the population using **numpy's random.choice**.  What is the sample mean for these 10 values?"
   ]
  },
  {
   "cell_type": "code",
   "execution_count": 4,
   "id": "6844d3d7",
   "metadata": {},
   "outputs": [
    {
     "data": {
      "text/plain": [
       "array([  1.99073813,   2.56776095, 100.03907725,  26.44660917,\n",
       "         7.38496269, 150.12425405, 227.09741251,   3.16290491,\n",
       "       428.38655756,  87.55537772])"
      ]
     },
     "execution_count": 4,
     "metadata": {},
     "output_type": "execute_result"
    }
   ],
   "source": [
    "sample1 = np.random.choice(pop_data, 10, replace=True)\n",
    "sample1"
   ]
  },
  {
   "cell_type": "markdown",
   "id": "fb392737",
   "metadata": {},
   "source": [
    "`3.` What is the sample standard deviation of your 10 draws?"
   ]
  },
  {
   "cell_type": "code",
   "execution_count": 5,
   "id": "2a7ac60d",
   "metadata": {},
   "outputs": [
    {
     "name": "stdout",
     "output_type": "stream",
     "text": [
      "Sample of 10 Draw Std: 130.00074035573317\n"
     ]
    }
   ],
   "source": [
    "print(\"Sample of 10 Draw Std: {}\".format(sample1.std()))"
   ]
  },
  {
   "cell_type": "markdown",
   "id": "8b7f14da",
   "metadata": {},
   "source": [
    "`4.` What is the population standard deviation?"
   ]
  },
  {
   "cell_type": "code",
   "execution_count": 6,
   "id": "ac971b39",
   "metadata": {},
   "outputs": [
    {
     "name": "stdout",
     "output_type": "stream",
     "text": [
      "Population std: 99.77860187968906\n"
     ]
    }
   ],
   "source": [
    "print(\"Population std: {}\".format(pop_data.std()))"
   ]
  },
  {
   "cell_type": "markdown",
   "id": "9bb8a8e9",
   "metadata": {},
   "source": [
    "`5.` What is the population variance?"
   ]
  },
  {
   "cell_type": "code",
   "execution_count": 7,
   "id": "0d4c80f9",
   "metadata": {},
   "outputs": [
    {
     "name": "stdout",
     "output_type": "stream",
     "text": [
      "population var: 9955.76939306549\n"
     ]
    }
   ],
   "source": [
    "print(\"population var: {}\".format(pop_data.var()))"
   ]
  },
  {
   "cell_type": "markdown",
   "id": "b1ff9348",
   "metadata": {},
   "source": [
    "`6.` What is the sample variance?"
   ]
  },
  {
   "cell_type": "code",
   "execution_count": 8,
   "id": "44c8686f",
   "metadata": {},
   "outputs": [
    {
     "name": "stdout",
     "output_type": "stream",
     "text": [
      "Sample var: 16900.192493038754\n"
     ]
    }
   ],
   "source": [
    "print(\"Sample var: {}\".format(sample1.var()))"
   ]
  },
  {
   "cell_type": "code",
   "execution_count": 9,
   "id": "a408dfd8",
   "metadata": {},
   "outputs": [
    {
     "data": {
      "text/plain": [
       "103.47556549464393"
      ]
     },
     "execution_count": 9,
     "metadata": {},
     "output_type": "execute_result"
    }
   ],
   "source": [
    "#Sample 1 mean\n",
    "sample1.mean()"
   ]
  },
  {
   "cell_type": "code",
   "execution_count": null,
   "id": "bcf14bb1",
   "metadata": {},
   "outputs": [],
   "source": []
  }
 ],
 "metadata": {
  "kernelspec": {
   "display_name": "Python 3 (ipykernel)",
   "language": "python",
   "name": "python3"
  },
  "language_info": {
   "codemirror_mode": {
    "name": "ipython",
    "version": 3
   },
   "file_extension": ".py",
   "mimetype": "text/x-python",
   "name": "python",
   "nbconvert_exporter": "python",
   "pygments_lexer": "ipython3",
   "version": "3.9.12"
  }
 },
 "nbformat": 4,
 "nbformat_minor": 5
}
