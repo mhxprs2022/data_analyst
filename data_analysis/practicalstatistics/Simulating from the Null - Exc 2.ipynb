{
 "cells": [
  {
   "cell_type": "markdown",
   "id": "971762ac",
   "metadata": {},
   "source": [
    "### Simulating From the Null Hypothesis\n",
    "\n",
    "Load in the data below, and use the exercises to assist with answering the quiz questions below.\n",
    "\n",
    "**If you get stuck, notice there is a solution notebook available by clicking on the orange jupyter icon in the top left!**"
   ]
  },
  {
   "cell_type": "code",
   "execution_count": 1,
   "id": "5d85b860",
   "metadata": {},
   "outputs": [],
   "source": [
    "import pandas as pd\n",
    "import numpy as np\n",
    "import matplotlib.pyplot as plt\n",
    "\n",
    "%matplotlib inline\n",
    "np.random.seed(42)\n",
    "\n",
    "full_data = pd.read_csv('coffee_dataset.csv')\n",
    "sample_data = full_data.sample(200)"
   ]
  },
  {
   "cell_type": "code",
   "execution_count": 3,
   "id": "4b4c5be4",
   "metadata": {},
   "outputs": [
    {
     "data": {
      "text/html": [
       "<div>\n",
       "<style scoped>\n",
       "    .dataframe tbody tr th:only-of-type {\n",
       "        vertical-align: middle;\n",
       "    }\n",
       "\n",
       "    .dataframe tbody tr th {\n",
       "        vertical-align: top;\n",
       "    }\n",
       "\n",
       "    .dataframe thead th {\n",
       "        text-align: right;\n",
       "    }\n",
       "</style>\n",
       "<table border=\"1\" class=\"dataframe\">\n",
       "  <thead>\n",
       "    <tr style=\"text-align: right;\">\n",
       "      <th></th>\n",
       "      <th>user_id</th>\n",
       "      <th>age</th>\n",
       "      <th>drinks_coffee</th>\n",
       "      <th>height</th>\n",
       "    </tr>\n",
       "  </thead>\n",
       "  <tbody>\n",
       "    <tr>\n",
       "      <th>2402</th>\n",
       "      <td>2874</td>\n",
       "      <td>&lt;21</td>\n",
       "      <td>True</td>\n",
       "      <td>64.357154</td>\n",
       "    </tr>\n",
       "    <tr>\n",
       "      <th>2864</th>\n",
       "      <td>3670</td>\n",
       "      <td>&gt;=21</td>\n",
       "      <td>True</td>\n",
       "      <td>66.859636</td>\n",
       "    </tr>\n",
       "    <tr>\n",
       "      <th>2167</th>\n",
       "      <td>7441</td>\n",
       "      <td>&lt;21</td>\n",
       "      <td>False</td>\n",
       "      <td>66.659561</td>\n",
       "    </tr>\n",
       "    <tr>\n",
       "      <th>507</th>\n",
       "      <td>2781</td>\n",
       "      <td>&gt;=21</td>\n",
       "      <td>True</td>\n",
       "      <td>70.166241</td>\n",
       "    </tr>\n",
       "    <tr>\n",
       "      <th>1817</th>\n",
       "      <td>2875</td>\n",
       "      <td>&gt;=21</td>\n",
       "      <td>True</td>\n",
       "      <td>71.369120</td>\n",
       "    </tr>\n",
       "  </tbody>\n",
       "</table>\n",
       "</div>"
      ],
      "text/plain": [
       "      user_id   age  drinks_coffee     height\n",
       "2402     2874   <21           True  64.357154\n",
       "2864     3670  >=21           True  66.859636\n",
       "2167     7441   <21          False  66.659561\n",
       "507      2781  >=21           True  70.166241\n",
       "1817     2875  >=21           True  71.369120"
      ]
     },
     "execution_count": 3,
     "metadata": {},
     "output_type": "execute_result"
    }
   ],
   "source": [
    "sample_data.head()"
   ]
  },
  {
   "cell_type": "markdown",
   "id": "fe9de428",
   "metadata": {},
   "source": [
    "`1.` If you were interested in studying whether the average height for coffee drinkers is the same as for non-coffee drinkers, what would the null and alternative hypotheses be?  Write them in the cell below, and use your answer to answer the first quiz question below.    \n",
    "Ho: u1 == u2   (u1 is average height of coffee drinker, u2 is average height of Non-coffee drinker)   \n",
    "H1: u1 != u2"
   ]
  },
  {
   "cell_type": "markdown",
   "id": "44c9fbdc",
   "metadata": {},
   "source": [
    "**Since there is no directional component associated with this statement, a not equal to seems most reasonable.**\n",
    "\n",
    "$$H_0: \\mu_{coff} - \\mu_{no} = 0$$\n",
    "\n",
    "\n",
    "$$H_1: \\mu_{coff} - \\mu_{no} \\neq 0$$\n",
    "\n",
    "\n",
    "**$\\mu_{coff}$ and $\\mu_{no}$ are the population mean values for coffee drinkers and non-coffee drinkers, respectivley.**"
   ]
  },
  {
   "cell_type": "markdown",
   "id": "225e910e",
   "metadata": {},
   "source": [
    "`2.` If you were interested in studying whether the average height for coffee drinkers is less than non-coffee drinkers, what would the null and alternative hypotheses be?  Write them in the cell below, and use your answer to answer the second quiz question below.   \n",
    "`1` H0: u1 >= u2 (u1 - coffee drinker, u2 - non coffee drinker)      \n",
    "`2` H1: u1 < u2 "
   ]
  },
  {
   "cell_type": "markdown",
   "id": "e350ba92",
   "metadata": {},
   "source": [
    "**In this case, there is a question associated with a direction - that is the average height for coffee drinkers is less than non-coffee drinkers.  Below is one of the ways you could write the null and alternative.  Since the mean for coffee drinkers is listed first here, the alternative would suggest that this is negative.**\n",
    "\n",
    "$$H_0: \\mu_{coff} - \\mu_{no} \\geq 0$$\n",
    "\n",
    "\n",
    "$$H_1: \\mu_{coff} - \\mu_{no} < 0$$\n",
    "\n",
    "\n",
    "**$\\mu_{coff}$ and $\\mu_{no}$ are the population mean values for coffee drinkers and non-coffee drinkers, respectivley.**"
   ]
  },
  {
   "cell_type": "markdown",
   "id": "e42a06b7",
   "metadata": {},
   "source": [
    "`3.` For 10,000 iterations: bootstrap the sample data, calculate the mean height for coffee drinkers and non-coffee drinkers, and calculate the difference in means for each sample.  You will want to have three arrays at the end of the iterations - one for each mean and one for the difference in means.  Use the results of your sampling distribution, to answer the third quiz question below."
   ]
  },
  {
   "cell_type": "code",
   "execution_count": 2,
   "id": "07b09acd",
   "metadata": {},
   "outputs": [],
   "source": [
    "#create our bootstrap sample\n",
    "bootsample = sample_data.sample(200, replace=True)"
   ]
  },
  {
   "cell_type": "code",
   "execution_count": 12,
   "id": "e1a999df",
   "metadata": {},
   "outputs": [],
   "source": [
    "# coffee_means, nocoffee_means, diff_means = [], [], []\n",
    "coffee_means = []\n",
    "nocoffee_means = []\n",
    "diff_means = []\n",
    "for _ in range(10000):\n",
    "    bootsample = sample_data.sample(200,replace=True)\n",
    "    bootsample_coffee = bootsample.query('drinks_coffee == True')\n",
    "    bootsample_nocoffee = bootsample.query('drinks_coffee == False')\n",
    "    coffee_means.append(bootsample_coffee.height.mean())\n",
    "    nocoffee_means.append(bootsample_nocoffee.height.mean())\n",
    "    diff_means.append(bootsample_coffee.height.mean() - bootsample_nocoffee.height.mean())"
   ]
  },
  {
   "cell_type": "code",
   "execution_count": 38,
   "id": "ef1ff639",
   "metadata": {},
   "outputs": [
    {
     "data": {
      "image/png": "[encoded data removed]",
      "text/plain": [
       "<Figure size 432x288 with 1 Axes>"
      ]
     },
     "metadata": {
      "needs_background": "light"
     },
     "output_type": "display_data"
    }
   ],
   "source": [
    "plt.hist(coffee_means, color='black', alpha=0.5);\n",
    "plt.hist(nocoffee_means, color='blue', alpha=0.5);\n"
   ]
  },
  {
   "cell_type": "code",
   "execution_count": 39,
   "id": "24531359",
   "metadata": {},
   "outputs": [
    {
     "data": {
      "image/png": "[encoded data removed]",
      "text/plain": [
       "<Figure size 432x288 with 1 Axes>"
      ]
     },
     "metadata": {
      "needs_background": "light"
     },
     "output_type": "display_data"
    }
   ],
   "source": [
    "plt.hist(diff_means, color='green', alpha=0.5);"
   ]
  },
  {
   "cell_type": "markdown",
   "id": "5f9198d6",
   "metadata": {},
   "source": []
  },
  {
   "cell_type": "code",
   "execution_count": 22,
   "id": "625efef2",
   "metadata": {},
   "outputs": [
    {
     "data": {
      "text/plain": [
       "0.24769715310344376"
      ]
     },
     "execution_count": 22,
     "metadata": {},
     "output_type": "execute_result"
    }
   ],
   "source": [
    "np.std(coffee_means)"
   ]
  },
  {
   "cell_type": "code",
   "execution_count": 23,
   "id": "2f2f3b22",
   "metadata": {},
   "outputs": [
    {
     "data": {
      "text/plain": [
       "0.4042437432365953"
      ]
     },
     "execution_count": 23,
     "metadata": {},
     "output_type": "execute_result"
    }
   ],
   "source": [
    "np.std(nocoffee_means)"
   ]
  },
  {
   "cell_type": "code",
   "execution_count": 24,
   "id": "d0084e97",
   "metadata": {},
   "outputs": [
    {
     "data": {
      "text/plain": [
       "0.4707176631965618"
      ]
     },
     "execution_count": 24,
     "metadata": {},
     "output_type": "execute_result"
    }
   ],
   "source": [
    "np.std(diff_means)"
   ]
  },
  {
   "cell_type": "code",
   "execution_count": 28,
   "id": "c032473f",
   "metadata": {},
   "outputs": [],
   "source": [
    "low, high = np.percentile(diff_means, 2.5), np.percentile(diff_means,97.5)"
   ]
  },
  {
   "cell_type": "code",
   "execution_count": 30,
   "id": "a5a30ee1",
   "metadata": {},
   "outputs": [
    {
     "data": {
      "image/png": "[encoded data removed]",
      "text/plain": [
       "<Figure size 432x288 with 1 Axes>"
      ]
     },
     "metadata": {
      "needs_background": "light"
     },
     "output_type": "display_data"
    }
   ],
   "source": [
    "plt.hist(diff_means);\n",
    "plt.axvline(x=low, color='r', linewidth=2);\n",
    "plt.axvline(x=high, color='r', linewidth=2);"
   ]
  },
  {
   "cell_type": "code",
   "execution_count": 40,
   "id": "78e4f892",
   "metadata": {},
   "outputs": [
    {
     "data": {
      "text/plain": [
       "68.11962990858618"
      ]
     },
     "execution_count": 40,
     "metadata": {},
     "output_type": "execute_result"
    }
   ],
   "source": [
    "sample_data.query('drinks_coffee == True').height.mean()"
   ]
  },
  {
   "cell_type": "code",
   "execution_count": 41,
   "id": "bfb382b5",
   "metadata": {},
   "outputs": [
    {
     "data": {
      "text/plain": [
       "66.78492279927877"
      ]
     },
     "execution_count": 41,
     "metadata": {},
     "output_type": "execute_result"
    }
   ],
   "source": [
    "sample_data.query('drinks_coffee == False').height.mean()"
   ]
  },
  {
   "cell_type": "markdown",
   "id": "b82204ba",
   "metadata": {},
   "source": [
    "`4.` Now, use your sampling distribution for the difference in means and [the docs](https://docs.scipy.org/doc/numpy-1.13.0/reference/generated/numpy.random.normal.html) to simulate what you would expect if your sampling distribution were centered on zero.  Also, calculate the observed sample mean difference in `sample_data`. Use your solutions to answer the last questions in the quiz below."
   ]
  },
  {
   "cell_type": "markdown",
   "id": "49152e54",
   "metadata": {},
   "source": [
    "** We would expect the sampling distribution to be normal by the Central Limit Theorem, and we know the standard deviation of the sampling distribution of the difference in means from the previous question, so we can use this to simulate draws from the sampling distribution under the null hypothesis.  If there is truly no difference, then the difference between the means should be zero.**"
   ]
  },
  {
   "cell_type": "code",
   "execution_count": 35,
   "id": "08fa7f6e",
   "metadata": {},
   "outputs": [],
   "source": [
    "null_vals = np.random.normal(0, np.std(diff_means), 10000)"
   ]
  },
  {
   "cell_type": "code",
   "execution_count": 48,
   "id": "11de6c8c",
   "metadata": {},
   "outputs": [],
   "source": [
    "observed_sample_data_mean_diff = sample_data.query('drinks_coffee == True').height.mean() - sample_data.query('drinks_coffee == False').height.mean()"
   ]
  },
  {
   "cell_type": "code",
   "execution_count": 49,
   "id": "0c135a11",
   "metadata": {},
   "outputs": [
    {
     "data": {
      "image/png": "[encoded data removed]",
      "text/plain": [
       "<Figure size 432x288 with 1 Axes>"
      ]
     },
     "metadata": {
      "needs_background": "light"
     },
     "output_type": "display_data"
    }
   ],
   "source": [
    "plt.hist(null_vals); #Here is the sampling distribution of the difference under the null\n",
    "plt.axvline(x=observed_sample_data_mean_diff, color='r', linewidth=2);"
   ]
  },
  {
   "cell_type": "code",
   "execution_count": null,
   "id": "67c5e8ca",
   "metadata": {},
   "outputs": [],
   "source": []
  }
 ],
 "metadata": {
  "kernelspec": {
   "display_name": "Python 3 (ipykernel)",
   "language": "python",
   "name": "python3"
  },
  "language_info": {
   "codemirror_mode": {
    "name": "ipython",
    "version": 3
   },
   "file_extension": ".py",
   "mimetype": "text/x-python",
   "name": "python",
   "nbconvert_exporter": "python",
   "pygments_lexer": "ipython3",
   "version": "3.9.12"
  }
 },
 "nbformat": 4,
 "nbformat_minor": 5
}
