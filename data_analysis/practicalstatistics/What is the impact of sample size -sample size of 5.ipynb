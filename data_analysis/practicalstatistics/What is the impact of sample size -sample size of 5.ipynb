{
 "cells": [
  {
   "cell_type": "markdown",
   "id": "5484f492",
   "metadata": {},
   "source": [
    "### The Impact of Large Sample Sizes\n",
    "\n",
    "When we increase our sample size, even the smallest of differences may seem significant.  \n",
    "\n",
    "To illustrate this point, work through this notebook and the quiz questions that follow below.\n",
    "\n",
    "Start by reading in the libraries and data."
   ]
  },
  {
   "cell_type": "code",
   "execution_count": 1,
   "id": "bf7c5070",
   "metadata": {},
   "outputs": [
    {
     "data": {
      "text/html": [
       "<div>\n",
       "<style scoped>\n",
       "    .dataframe tbody tr th:only-of-type {\n",
       "        vertical-align: middle;\n",
       "    }\n",
       "\n",
       "    .dataframe tbody tr th {\n",
       "        vertical-align: top;\n",
       "    }\n",
       "\n",
       "    .dataframe thead th {\n",
       "        text-align: right;\n",
       "    }\n",
       "</style>\n",
       "<table border=\"1\" class=\"dataframe\">\n",
       "  <thead>\n",
       "    <tr style=\"text-align: right;\">\n",
       "      <th></th>\n",
       "      <th>user_id</th>\n",
       "      <th>age</th>\n",
       "      <th>drinks_coffee</th>\n",
       "      <th>height</th>\n",
       "    </tr>\n",
       "  </thead>\n",
       "  <tbody>\n",
       "    <tr>\n",
       "      <th>0</th>\n",
       "      <td>4509</td>\n",
       "      <td>&lt;21</td>\n",
       "      <td>False</td>\n",
       "      <td>64.538179</td>\n",
       "    </tr>\n",
       "    <tr>\n",
       "      <th>1</th>\n",
       "      <td>1864</td>\n",
       "      <td>&gt;=21</td>\n",
       "      <td>True</td>\n",
       "      <td>65.824249</td>\n",
       "    </tr>\n",
       "    <tr>\n",
       "      <th>2</th>\n",
       "      <td>2060</td>\n",
       "      <td>&lt;21</td>\n",
       "      <td>False</td>\n",
       "      <td>71.319854</td>\n",
       "    </tr>\n",
       "    <tr>\n",
       "      <th>3</th>\n",
       "      <td>7875</td>\n",
       "      <td>&gt;=21</td>\n",
       "      <td>True</td>\n",
       "      <td>68.569404</td>\n",
       "    </tr>\n",
       "    <tr>\n",
       "      <th>4</th>\n",
       "      <td>6254</td>\n",
       "      <td>&lt;21</td>\n",
       "      <td>True</td>\n",
       "      <td>64.020226</td>\n",
       "    </tr>\n",
       "  </tbody>\n",
       "</table>\n",
       "</div>"
      ],
      "text/plain": [
       "   user_id   age  drinks_coffee     height\n",
       "0     4509   <21          False  64.538179\n",
       "1     1864  >=21           True  65.824249\n",
       "2     2060   <21          False  71.319854\n",
       "3     7875  >=21           True  68.569404\n",
       "4     6254   <21           True  64.020226"
      ]
     },
     "execution_count": 1,
     "metadata": {},
     "output_type": "execute_result"
    }
   ],
   "source": [
    "import pandas as pd\n",
    "import numpy as np\n",
    "import matplotlib.pyplot as plt\n",
    "import math\n",
    "%matplotlib inline\n",
    "np.random.seed(42)\n",
    "\n",
    "full_data = pd.read_csv('coffee_dataset.csv')\n",
    "full_data.head()"
   ]
  },
  {
   "cell_type": "markdown",
   "id": "01b963a1",
   "metadata": {},
   "source": [
    "`1.` In this case, imagine we are interested in testing if the mean height of all individuals in `full_data` is equal to 67.60 inches or **different** than 67.60.  First, use **quiz 1** below to state the null and alternative hypotheses for these cases in the cell below. "
   ]
  },
  {
   "cell_type": "markdown",
   "id": "f46278fb",
   "metadata": {},
   "source": [
    "  ***H0:  u = 67.60     (u is the mean height of everyone in the population)   \n",
    "  H1:  u != 67.60***   "
   ]
  },
  {
   "cell_type": "markdown",
   "id": "4ca5d131",
   "metadata": {},
   "source": [
    "`2.` Find:\n",
    "* What is the population mean height?  \n",
    "* What is the standard deviation of the population heights?  Create a sample set of data using the code below.  \n",
    "* What is the sample mean height?  Simulate the sampling distribution for the mean of five values to see the shape and plot a histogram. \n",
    "* What is the standard deviation of the sampling distribution of the mean of five draws? \n",
    "Use **quiz 2** below to assure your answers are correct.  "
   ]
  },
  {
   "cell_type": "code",
   "execution_count": 2,
   "id": "80a1d755",
   "metadata": {},
   "outputs": [
    {
     "data": {
      "text/plain": [
       "67.59748697307937"
      ]
     },
     "execution_count": 2,
     "metadata": {},
     "output_type": "execute_result"
    }
   ],
   "source": [
    "full_data.height.mean() #population mean"
   ]
  },
  {
   "cell_type": "code",
   "execution_count": 3,
   "id": "4a96fde3",
   "metadata": {},
   "outputs": [
    {
     "data": {
      "text/plain": [
       "3.119433206550344"
      ]
     },
     "execution_count": 3,
     "metadata": {},
     "output_type": "execute_result"
    }
   ],
   "source": [
    "full_data.height.std() #population standard deviation"
   ]
  },
  {
   "cell_type": "code",
   "execution_count": 4,
   "id": "e48bf1af",
   "metadata": {},
   "outputs": [],
   "source": [
    "sample1 = full_data.sample(5)"
   ]
  },
  {
   "cell_type": "code",
   "execution_count": 5,
   "id": "50dccdd3",
   "metadata": {},
   "outputs": [
    {
     "data": {
      "text/plain": [
       "67.88234252049084"
      ]
     },
     "execution_count": 5,
     "metadata": {},
     "output_type": "execute_result"
    }
   ],
   "source": [
    "sample1.height.mean() # Sample mean"
   ]
  },
  {
   "cell_type": "code",
   "execution_count": 6,
   "id": "897b1400",
   "metadata": {},
   "outputs": [],
   "source": [
    "sampling_dist_mean = []\n",
    "for _ in range(10000):\n",
    "    bootsamp = sample1.sample(5, replace=True)\n",
    "    bootsamp_mean = bootsamp.height.mean()\n",
    "    sampling_dist_mean.append(bootsamp_mean)"
   ]
  },
  {
   "cell_type": "code",
   "execution_count": 7,
   "id": "33c9a8cf",
   "metadata": {},
   "outputs": [
    {
     "data": {
      "image/png": "[encoded data removed]",
      "text/plain": [
       "<Figure size 432x288 with 1 Axes>"
      ]
     },
     "metadata": {
      "needs_background": "light"
     },
     "output_type": "display_data"
    }
   ],
   "source": [
    "plt.hist(sampling_dist_mean);"
   ]
  },
  {
   "cell_type": "code",
   "execution_count": 8,
   "id": "98ca0d39",
   "metadata": {},
   "outputs": [],
   "source": [
    "std_sampling_dist = np.std(sampling_dist_mean)"
   ]
  },
  {
   "cell_type": "code",
   "execution_count": 9,
   "id": "e609b521",
   "metadata": {},
   "outputs": [
    {
     "data": {
      "text/plain": [
       "1.1413573519993707"
      ]
     },
     "execution_count": 9,
     "metadata": {},
     "output_type": "execute_result"
    }
   ],
   "source": [
    "std_sampling_dist # The standard deviation of the sampling distribution of means"
   ]
  },
  {
   "cell_type": "markdown",
   "id": "1b0c82a5",
   "metadata": {},
   "source": [
    "`3.` Using the null and alternative hypotheses set up in question 1 and the results of your sampling distribution in question 2, simulate the mean values you would expect from the null hypothesis.  Use these simulated values to determine a p-value to make a decision about your null and alternative hypotheses.  Check your solution using **quiz 3** and **quiz 4** below.\n",
    "\n",
    "**Hint:** Use the numpy documentation [here](https://docs.scipy.org/doc/numpy-1.13.0/reference/generated/numpy.random.normal.html) to assist with your solution."
   ]
  },
  {
   "cell_type": "code",
   "execution_count": 10,
   "id": "1ebeef17",
   "metadata": {},
   "outputs": [],
   "source": [
    "null_mean = 67.60"
   ]
  },
  {
   "cell_type": "code",
   "execution_count": 11,
   "id": "efd89065",
   "metadata": {},
   "outputs": [],
   "source": [
    "null_vals = np.random.normal(null_mean, std_sampling_dist,10000) #simulaton of mean centered around 67.60"
   ]
  },
  {
   "cell_type": "code",
   "execution_count": 12,
   "id": "dad91127",
   "metadata": {},
   "outputs": [
    {
     "name": "stdout",
     "output_type": "stream",
     "text": [
      "[67.33035518 63.81682811 66.52346646 ... 68.24724889 68.09428382\n",
      " 70.70045007]\n"
     ]
    }
   ],
   "source": [
    "print(null_vals)"
   ]
  },
  {
   "cell_type": "code",
   "execution_count": 26,
   "id": "2801d21e",
   "metadata": {},
   "outputs": [
    {
     "data": {
      "image/png": "[encoded data removed]",
      "text/plain": [
       "<Figure size 432x288 with 1 Axes>"
      ]
     },
     "metadata": {
      "needs_background": "light"
     },
     "output_type": "display_data"
    }
   ],
   "source": [
    "#Plot the histogram of all means in null_vals\n",
    "plt.hist(null_vals);\n",
    "plt.axvline(x=sample1.height.mean(),color='r', linewidth=2);  #see where our sample mean falls on the null list\n",
    "plt.axvline(x=67.60, color='y', linewidth=2);  # null mean = 67.60"
   ]
  },
  {
   "cell_type": "code",
   "execution_count": 14,
   "id": "18b0962e",
   "metadata": {},
   "outputs": [],
   "source": [
    "# for a two sided hypothesis, we want to look at anything \n",
    "# more extreme from the null in both directions\n",
    "obs_mean = sample1.height.mean()"
   ]
  },
  {
   "cell_type": "code",
   "execution_count": 15,
   "id": "ab67dc2f",
   "metadata": {},
   "outputs": [
    {
     "data": {
      "text/plain": [
       "67.88234252049084"
      ]
     },
     "execution_count": 15,
     "metadata": {},
     "output_type": "execute_result"
    }
   ],
   "source": [
    "obs_mean"
   ]
  },
  {
   "cell_type": "code",
   "execution_count": 16,
   "id": "fd8aecbb",
   "metadata": {},
   "outputs": [],
   "source": [
    "# probability of a statistic higher than observed\n",
    "prob_more_extreme_high = (null_vals > obs_mean).mean()"
   ]
  },
  {
   "cell_type": "code",
   "execution_count": 17,
   "id": "aead0b71",
   "metadata": {},
   "outputs": [
    {
     "data": {
      "text/plain": [
       "0.4071"
      ]
     },
     "execution_count": 17,
     "metadata": {},
     "output_type": "execute_result"
    }
   ],
   "source": [
    "prob_more_extreme_high"
   ]
  },
  {
   "cell_type": "code",
   "execution_count": 27,
   "id": "da14f19b",
   "metadata": {},
   "outputs": [],
   "source": [
    "# probability a statistic is more extreme lower\n",
    "prob_more_extreme_low = (null_mean - (obs_mean - null_mean) > null_vals).mean()"
   ]
  },
  {
   "cell_type": "code",
   "execution_count": 28,
   "id": "e2625993",
   "metadata": {},
   "outputs": [
    {
     "data": {
      "text/plain": [
       "0.3979"
      ]
     },
     "execution_count": 28,
     "metadata": {},
     "output_type": "execute_result"
    }
   ],
   "source": [
    "prob_more_extreme_low"
   ]
  },
  {
   "cell_type": "code",
   "execution_count": 29,
   "id": "147bd414",
   "metadata": {},
   "outputs": [
    {
     "data": {
      "text/plain": [
       "0.8049999999999999"
      ]
     },
     "execution_count": 29,
     "metadata": {},
     "output_type": "execute_result"
    }
   ],
   "source": [
    "pval = prob_more_extreme_low + prob_more_extreme_high\n",
    "pval"
   ]
  },
  {
   "cell_type": "code",
   "execution_count": 34,
   "id": "5054e0a2",
   "metadata": {},
   "outputs": [
    {
     "data": {
      "text/plain": [
       "<matplotlib.lines.Line2D at 0x1706998f790>"
      ]
     },
     "execution_count": 34,
     "metadata": {},
     "output_type": "execute_result"
    },
    {
     "data": {
      "image/png": "[encoded data removed]",
      "text/plain": [
       "<Figure size 432x288 with 1 Axes>"
      ]
     },
     "metadata": {
      "needs_background": "light"
     },
     "output_type": "display_data"
    }
   ],
   "source": [
    "#Plot the histogram of all means in null_vals\n",
    "plt.hist(null_vals);\n",
    "plt.axvline(x=sample1.height.mean(),color='r', linewidth=2);  #see where our sample mean falls on the null list\n",
    "plt.axvline(x=67.60, color='y', linewidth=2);  # null mean = 67.60\n",
    "plt.axvline(x=prob_more_extreme_high, color='r', linewidth=2)\n",
    "plt.axvline(x=prob_more_extreme_low, color='r', linewidth=2)"
   ]
  },
  {
   "cell_type": "markdown",
   "id": "f91481fe",
   "metadata": {},
   "source": [
    "`4.` Now imagine if you received the same sample mean as you calculated from the sample in question 1 above, but that you actually retrieved it from a sample of 300.  What would the new standard deviation be for your sampling distribution for the mean of 300 values?  Additionally, what would your new p-value be for choosing between the null and alternative hypotheses you set up? Simulate the sampling distribution for the mean of five values to see the shape and plot a histogram.  Use your solutions here to answer the second to last quiz question below.\n",
    "\n",
    "**Hint:**  If you get stuck, notice you can use the solution from quiz regarding finding the p-value earlier to assist with obtaining this answer with just a few small changes."
   ]
  },
  {
   "cell_type": "code",
   "execution_count": 14,
   "id": "61579967",
   "metadata": {},
   "outputs": [],
   "source": [
    "# please see What is the impact of sample size -sample size of 300 "
   ]
  }
 ],
 "metadata": {
  "kernelspec": {
   "display_name": "Python 3 (ipykernel)",
   "language": "python",
   "name": "python3"
  },
  "language_info": {
   "codemirror_mode": {
    "name": "ipython",
    "version": 3
   },
   "file_extension": ".py",
   "mimetype": "text/x-python",
   "name": "python",
   "nbconvert_exporter": "python",
   "pygments_lexer": "ipython3",
   "version": "3.9.12"
  }
 },
 "nbformat": 4,
 "nbformat_minor": 5
}
