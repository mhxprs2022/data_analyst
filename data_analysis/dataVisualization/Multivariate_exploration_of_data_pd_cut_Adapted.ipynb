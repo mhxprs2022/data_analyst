{
 "cells": [
  {
   "cell_type": "code",
   "execution_count": 1,
   "id": "b6394f02",
   "metadata": {},
   "outputs": [],
   "source": [
    "# Necessary imports\n",
    "import numpy as np\n",
    "import pandas as pd\n",
    "import matplotlib.pyplot as plt\n",
    "import seaborn as sb\n",
    "%matplotlib inline"
   ]
  },
  {
   "cell_type": "code",
   "execution_count": 4,
   "id": "c2a45c3c",
   "metadata": {},
   "outputs": [
    {
     "data": {
      "text/html": [
       "<div>\n",
       "<style scoped>\n",
       "    .dataframe tbody tr th:only-of-type {\n",
       "        vertical-align: middle;\n",
       "    }\n",
       "\n",
       "    .dataframe tbody tr th {\n",
       "        vertical-align: top;\n",
       "    }\n",
       "\n",
       "    .dataframe thead th {\n",
       "        text-align: right;\n",
       "    }\n",
       "</style>\n",
       "<table border=\"1\" class=\"dataframe\">\n",
       "  <thead>\n",
       "    <tr style=\"text-align: right;\">\n",
       "      <th></th>\n",
       "      <th>id</th>\n",
       "      <th>make</th>\n",
       "      <th>model</th>\n",
       "      <th>year</th>\n",
       "      <th>VClass</th>\n",
       "      <th>drive</th>\n",
       "      <th>trans</th>\n",
       "      <th>fuelType</th>\n",
       "      <th>cylinders</th>\n",
       "      <th>displ</th>\n",
       "      <th>pv2</th>\n",
       "      <th>pv4</th>\n",
       "      <th>city</th>\n",
       "      <th>UCity</th>\n",
       "      <th>highway</th>\n",
       "      <th>UHighway</th>\n",
       "      <th>comb</th>\n",
       "      <th>co2</th>\n",
       "      <th>feScore</th>\n",
       "      <th>ghgScore</th>\n",
       "    </tr>\n",
       "  </thead>\n",
       "  <tbody>\n",
       "    <tr>\n",
       "      <th>0</th>\n",
       "      <td>32204</td>\n",
       "      <td>Nissan</td>\n",
       "      <td>GT-R</td>\n",
       "      <td>2013</td>\n",
       "      <td>Subcompact Cars</td>\n",
       "      <td>All-Wheel Drive</td>\n",
       "      <td>Automatic (AM6)</td>\n",
       "      <td>Premium Gasoline</td>\n",
       "      <td>6</td>\n",
       "      <td>3.8</td>\n",
       "      <td>79</td>\n",
       "      <td>0</td>\n",
       "      <td>16.4596</td>\n",
       "      <td>20.2988</td>\n",
       "      <td>22.5568</td>\n",
       "      <td>30.1798</td>\n",
       "      <td>18.7389</td>\n",
       "      <td>471</td>\n",
       "      <td>4</td>\n",
       "      <td>4</td>\n",
       "    </tr>\n",
       "  </tbody>\n",
       "</table>\n",
       "</div>"
      ],
      "text/plain": [
       "      id    make model  year           VClass            drive  \\\n",
       "0  32204  Nissan  GT-R  2013  Subcompact Cars  All-Wheel Drive   \n",
       "\n",
       "             trans          fuelType  cylinders  displ  pv2  pv4     city  \\\n",
       "0  Automatic (AM6)  Premium Gasoline          6    3.8   79    0  16.4596   \n",
       "\n",
       "     UCity  highway  UHighway     comb  co2  feScore  ghgScore  \n",
       "0  20.2988  22.5568   30.1798  18.7389  471        4         4  "
      ]
     },
     "execution_count": 4,
     "metadata": {},
     "output_type": "execute_result"
    }
   ],
   "source": [
    "# Read the CSV file\n",
    "fuel_econ = pd.read_csv('fuel_econ.csv')\n",
    "fuel_econ.head(1)"
   ]
  },
  {
   "cell_type": "code",
   "execution_count": 6,
   "id": "f77f2ca5",
   "metadata": {},
   "outputs": [],
   "source": [
    "# Convert the \"VClass\" column from a plain object type into an ordered categorical type\n",
    "sedan_classes = ['Minicompact Cars', 'Subcompact Cars', 'Compact Cars', 'Midsize Cars', 'Large Cars']\n",
    "vclasses = pd.api.types.CategoricalDtype(ordered=True, categories=sedan_classes)\n",
    "fuel_econ['VClass'] = fuel_econ['VClass'].astype(vclasses);\n",
    "fuel_econ['trans_type'] = fuel_econ['trans'].apply(lambda x:x.split()[0])"
   ]
  },
  {
   "cell_type": "code",
   "execution_count": 7,
   "id": "e614590e",
   "metadata": {},
   "outputs": [
    {
     "data": {
      "text/html": [
       "<div>\n",
       "<style scoped>\n",
       "    .dataframe tbody tr th:only-of-type {\n",
       "        vertical-align: middle;\n",
       "    }\n",
       "\n",
       "    .dataframe tbody tr th {\n",
       "        vertical-align: top;\n",
       "    }\n",
       "\n",
       "    .dataframe thead th {\n",
       "        text-align: right;\n",
       "    }\n",
       "</style>\n",
       "<table border=\"1\" class=\"dataframe\">\n",
       "  <thead>\n",
       "    <tr style=\"text-align: right;\">\n",
       "      <th></th>\n",
       "      <th>id</th>\n",
       "      <th>make</th>\n",
       "      <th>model</th>\n",
       "      <th>year</th>\n",
       "      <th>VClass</th>\n",
       "      <th>drive</th>\n",
       "      <th>trans</th>\n",
       "      <th>fuelType</th>\n",
       "      <th>cylinders</th>\n",
       "      <th>displ</th>\n",
       "      <th>...</th>\n",
       "      <th>pv4</th>\n",
       "      <th>city</th>\n",
       "      <th>UCity</th>\n",
       "      <th>highway</th>\n",
       "      <th>UHighway</th>\n",
       "      <th>comb</th>\n",
       "      <th>co2</th>\n",
       "      <th>feScore</th>\n",
       "      <th>ghgScore</th>\n",
       "      <th>trans_type</th>\n",
       "    </tr>\n",
       "  </thead>\n",
       "  <tbody>\n",
       "    <tr>\n",
       "      <th>0</th>\n",
       "      <td>32204</td>\n",
       "      <td>Nissan</td>\n",
       "      <td>GT-R</td>\n",
       "      <td>2013</td>\n",
       "      <td>Subcompact Cars</td>\n",
       "      <td>All-Wheel Drive</td>\n",
       "      <td>Automatic (AM6)</td>\n",
       "      <td>Premium Gasoline</td>\n",
       "      <td>6</td>\n",
       "      <td>3.8</td>\n",
       "      <td>...</td>\n",
       "      <td>0</td>\n",
       "      <td>16.4596</td>\n",
       "      <td>20.2988</td>\n",
       "      <td>22.5568</td>\n",
       "      <td>30.1798</td>\n",
       "      <td>18.7389</td>\n",
       "      <td>471</td>\n",
       "      <td>4</td>\n",
       "      <td>4</td>\n",
       "      <td>Automatic</td>\n",
       "    </tr>\n",
       "  </tbody>\n",
       "</table>\n",
       "<p>1 rows × 21 columns</p>\n",
       "</div>"
      ],
      "text/plain": [
       "      id    make model  year           VClass            drive  \\\n",
       "0  32204  Nissan  GT-R  2013  Subcompact Cars  All-Wheel Drive   \n",
       "\n",
       "             trans          fuelType  cylinders  displ  ...  pv4     city  \\\n",
       "0  Automatic (AM6)  Premium Gasoline          6    3.8  ...    0  16.4596   \n",
       "\n",
       "     UCity  highway  UHighway     comb  co2  feScore  ghgScore  trans_type  \n",
       "0  20.2988  22.5568   30.1798  18.7389  471        4         4   Automatic  \n",
       "\n",
       "[1 rows x 21 columns]"
      ]
     },
     "execution_count": 7,
     "metadata": {},
     "output_type": "execute_result"
    }
   ],
   "source": [
    "fuel_econ.head(1)"
   ]
  },
  {
   "cell_type": "code",
   "execution_count": 8,
   "id": "77088bb9",
   "metadata": {},
   "outputs": [
    {
     "data": {
      "image/png": "[encoded data removed]",
      "text/plain": [
       "<Figure size 432x288 with 1 Axes>"
      ]
     },
     "metadata": {
      "needs_background": "light"
     },
     "output_type": "display_data"
    }
   ],
   "source": [
    "sb.pointplot(data=fuel_econ, x='VClass', y='comb', ci='sd', linestyles=\"\");\n",
    "plt.xticks(rotation=15)\n",
    "plt.ylabel('Avg. Combined Efficiency (mpg)');"
   ]
  },
  {
   "cell_type": "code",
   "execution_count": 10,
   "id": "7bf255e6",
   "metadata": {},
   "outputs": [
    {
     "data": {
      "image/png": "[encoded data removed]",
      "text/plain": [
       "<Figure size 432x288 with 1 Axes>"
      ]
     },
     "metadata": {
      "needs_background": "light"
     },
     "output_type": "display_data"
    }
   ],
   "source": [
    "sb.pointplot(data=fuel_econ, x='VClass', y='comb', ci='sd', hue='trans_type', \n",
    "             linestyles=\"\", dodge=True);\n",
    "plt.xticks(rotation=15)\n",
    "plt.ylabel('Avg. Combined Efficiency (mpg)');"
   ]
  },
  {
   "cell_type": "code",
   "execution_count": 13,
   "id": "2bf04412",
   "metadata": {},
   "outputs": [
    {
     "data": {
      "image/png": "[encoded data removed]",
      "text/plain": [
       "<Figure size 432x288 with 1 Axes>"
      ]
     },
     "metadata": {
      "needs_background": "light"
     },
     "output_type": "display_data"
    }
   ],
   "source": [
    "sb.barplot(data=fuel_econ, x='VClass', y='comb', ci='sd', hue='trans_type');\n",
    "plt.xticks(rotation=15)\n",
    "plt.ylabel('Avg. Combined Efficiency (mpg)');"
   ]
  },
  {
   "cell_type": "code",
   "execution_count": 15,
   "id": "a69c8113",
   "metadata": {},
   "outputs": [
    {
     "data": {
      "image/png": "[encoded data removed]",
      "text/plain": [
       "<Figure size 432x288 with 1 Axes>"
      ]
     },
     "metadata": {
      "needs_background": "light"
     },
     "output_type": "display_data"
    }
   ],
   "source": [
    "sb.boxplot(data=fuel_econ, x='VClass', y='comb', hue='trans_type');\n",
    "plt.xticks(rotation=15)\n",
    "plt.ylabel('Avg. Combined Efficiency (mpg)');"
   ]
  },
  {
   "cell_type": "code",
   "execution_count": 41,
   "id": "8a02ce0b",
   "metadata": {},
   "outputs": [
    {
     "data": {
      "image/png": "[encoded data removed]",
      "text/plain": [
       "<Figure size 432x288 with 2 Axes>"
      ]
     },
     "metadata": {
      "needs_background": "light"
     },
     "output_type": "display_data"
    }
   ],
   "source": [
    "# for heat map to add a third parameter\n",
    "bins_x = np.arange(0.6, 7+0.3, 0.3)\n",
    "bins_y = np.arange(12, 58+3, 3)\n",
    "plt.hist2d(data=fuel_econ, x='displ', y='comb', cmin=0.5, \n",
    "           cmap='viridis_r', bins = [bins_x, bins_y]);\n",
    "plt.xlabel('Displacement (l)')\n",
    "plt.ylabel('Combined Fuel Eff. (mpg)');\n",
    "plt.colorbar();"
   ]
  },
  {
   "cell_type": "code",
   "execution_count": 31,
   "id": "a127e00c",
   "metadata": {},
   "outputs": [
    {
     "data": {
      "text/plain": [
       "0       10\n",
       "1        4\n",
       "2       10\n",
       "3       10\n",
       "4        6\n",
       "        ..\n",
       "3924     4\n",
       "3925     4\n",
       "3926     4\n",
       "3927     9\n",
       "3928     9\n",
       "Name: displ, Length: 3929, dtype: int32"
      ]
     },
     "execution_count": 31,
     "metadata": {},
     "output_type": "execute_result"
    }
   ],
   "source": [
    "displ_bins = pd.cut(fuel_econ.displ, bins_x, right = False, include_lowest=False,\n",
    "                   labels = False).astype(int)\n",
    "displ_bins"
   ]
  },
  {
   "cell_type": "code",
   "execution_count": 58,
   "id": "7af6ecff",
   "metadata": {},
   "outputs": [
    {
     "data": {
      "text/plain": [
       "0        2\n",
       "1        4\n",
       "2        2\n",
       "3        2\n",
       "4        5\n",
       "        ..\n",
       "3924    14\n",
       "3925     9\n",
       "3926    10\n",
       "3927     3\n",
       "3928     3\n",
       "Name: comb, Length: 3929, dtype: int32"
      ]
     },
     "execution_count": 58,
     "metadata": {},
     "output_type": "execute_result"
    }
   ],
   "source": [
    "comb_bins = pd.cut(fuel_econ.comb,  bins_y, right = False, include_lowest=False,\n",
    "                  labels = False).astype(int)\n",
    "comb_bins"
   ]
  },
  {
   "cell_type": "code",
   "execution_count": 33,
   "id": "60e859b7",
   "metadata": {},
   "outputs": [
    {
     "data": {
      "text/plain": [
       "displ  comb\n",
       "0      7        3\n",
       "       9        3\n",
       "1      6        4\n",
       "       7        8\n",
       "2      5       42\n",
       "               ..\n",
       "19     1       20\n",
       "       2       15\n",
       "20     0       38\n",
       "       1       13\n",
       "21     1        2\n",
       "Length: 91, dtype: int64"
      ]
     },
     "execution_count": 33,
     "metadata": {},
     "output_type": "execute_result"
    }
   ],
   "source": [
    "n_points = fuel_econ.groupby([displ_bins, comb_bins]).size()\n",
    "n_points "
   ]
  },
  {
   "cell_type": "code",
   "execution_count": 34,
   "id": "ef6bca11",
   "metadata": {},
   "outputs": [
    {
     "data": {
      "text/plain": [
       "array([[ nan,  nan,  nan,  nan,  nan,  nan,  nan,   3.,  nan,   3.,  nan,\n",
       "         nan,  nan,  nan,  nan,  nan],\n",
       "       [ nan,  nan,  nan,  nan,  nan,  nan,   4.,   8.,  nan,  nan,  nan,\n",
       "         nan,  nan,  nan,  nan,  nan],\n",
       "       [ nan,  nan,  nan,  nan,  nan,  42.,  62.,  31.,  15.,   7.,   4.,\n",
       "         nan,  nan,  nan,  nan,  nan],\n",
       "       [ nan,  nan,  nan,   6.,  55., 130., 119.,  34.,   7.,  nan,   7.,\n",
       "          2.,   4.,   1.,   2.,   2.],\n",
       "       [ nan,  nan,  15.,  98., 405., 311., 145.,  55.,  14.,  26.,   6.,\n",
       "         10.,   3.,   3.,   5.,  nan],\n",
       "       [ nan,  nan,   1.,  12.,   9.,  nan,   5.,   1.,  nan,  nan,  nan,\n",
       "         nan,  nan,  nan,  nan,  nan],\n",
       "       [ nan,  nan,  11.,  37., 105.,  82.,  37.,   5.,  15.,  17.,  nan,\n",
       "          1.,  nan,   1.,  nan,  nan],\n",
       "       [ nan,  nan,   7.,   6.,  nan,  nan,  nan,  nan,  nan,  nan,  nan,\n",
       "         nan,  nan,  nan,  nan,  nan],\n",
       "       [ nan,  nan, 123., 311.,  64.,  17.,   2.,  nan,  nan,  nan,  nan,\n",
       "         nan,  nan,  nan,  nan,  nan],\n",
       "       [ nan,  nan,  32., 190.,  52.,  14.,  18.,  nan,  nan,  nan,  nan,\n",
       "         nan,  nan,  nan,  nan,  nan],\n",
       "       [ nan,   5., 173., 219.,   2.,  nan,  nan,  nan,  nan,  nan,  nan,\n",
       "         nan,  nan,  nan,  nan,  nan],\n",
       "       [ nan,  22.,  58.,   4.,  nan,  nan,  nan,  nan,  nan,  nan,  nan,\n",
       "         nan,  nan,  nan,  nan,  nan],\n",
       "       [ nan,  48.,  92.,  nan,  nan,  nan,  nan,  nan,  nan,  nan,  nan,\n",
       "         nan,  nan,  nan,  nan,  nan],\n",
       "       [  1.,  15.,  59.,  nan,  nan,  nan,  nan,  nan,  nan,  nan,  nan,\n",
       "         nan,  nan,  nan,  nan,  nan],\n",
       "       [ nan,  55.,  64.,  nan,  nan,  nan,  nan,  nan,  nan,  nan,  nan,\n",
       "         nan,  nan,  nan,  nan,  nan],\n",
       "       [ nan,   4.,  nan,  nan,  nan,  nan,  nan,  nan,  nan,  nan,  nan,\n",
       "         nan,  nan,  nan,  nan,  nan],\n",
       "       [  3.,  17.,  24.,  nan,  nan,  nan,  nan,  nan,  nan,  nan,  nan,\n",
       "         nan,  nan,  nan,  nan,  nan],\n",
       "       [ nan,  16.,  20.,  nan,  nan,  nan,  nan,  nan,  nan,  nan,  nan,\n",
       "         nan,  nan,  nan,  nan,  nan],\n",
       "       [ 29.,  70.,  12.,  nan,  nan,  nan,  nan,  nan,  nan,  nan,  nan,\n",
       "         nan,  nan,  nan,  nan,  nan],\n",
       "       [ 10.,  20.,  15.,  nan,  nan,  nan,  nan,  nan,  nan,  nan,  nan,\n",
       "         nan,  nan,  nan,  nan,  nan],\n",
       "       [ 38.,  13.,  nan,  nan,  nan,  nan,  nan,  nan,  nan,  nan,  nan,\n",
       "         nan,  nan,  nan,  nan,  nan],\n",
       "       [ nan,   2.,  nan,  nan,  nan,  nan,  nan,  nan,  nan,  nan,  nan,\n",
       "         nan,  nan,  nan,  nan,  nan]])"
      ]
     },
     "execution_count": 34,
     "metadata": {},
     "output_type": "execute_result"
    }
   ],
   "source": [
    "n_points = n_points.reset_index().pivot(index='displ', columns='comb').values\n",
    "n_points"
   ]
  },
  {
   "cell_type": "code",
   "execution_count": 35,
   "id": "682d7311",
   "metadata": {},
   "outputs": [
    {
     "data": {
      "text/plain": [
       "0        2.722543\n",
       "1        0.861728\n",
       "2        2.479769\n",
       "3        2.578035\n",
       "4        3.780488\n",
       "          ...    \n",
       "3924    15.600000\n",
       "3925     8.346154\n",
       "3926    35.333333\n",
       "3927     2.036842\n",
       "3928     2.194737\n",
       "Name: co2, Length: 3929, dtype: float64"
      ]
     },
     "execution_count": 35,
     "metadata": {},
     "output_type": "execute_result"
    }
   ],
   "source": [
    "co2_weight = fuel_econ.co2 / n_points[displ_bins, comb_bins]\n",
    "co2_weight"
   ]
  },
  {
   "cell_type": "code",
   "execution_count": 36,
   "id": "88355199",
   "metadata": {},
   "outputs": [
    {
     "data": {
      "image/png": "[encoded data removed]",
      "text/plain": [
       "<Figure size 432x288 with 2 Axes>"
      ]
     },
     "metadata": {
      "needs_background": "light"
     },
     "output_type": "display_data"
    }
   ],
   "source": [
    "# for heat map to add a third parameter\n",
    "# add weight \n",
    "bins_x = np.arange(0.6, 7+0.3, 0.3)\n",
    "bins_y = np.arange(12, 58+3, 3)\n",
    "plt.hist2d(data=fuel_econ, x='displ', y='comb', cmin=0.5, \n",
    "           cmap='viridis_r', bins = [bins_x, bins_y], weights=co2_weight);\n",
    "plt.xlabel('Displacement (l)')\n",
    "plt.ylabel('Combined Fuel Eff. (mpg)');\n",
    "plt.colorbar(label = 'CO2 (g/mi)');"
   ]
  },
  {
   "cell_type": "markdown",
   "id": "d2167fd0",
   "metadata": {},
   "source": [
    "# NOT SURE WHAT THE ABOVE CALULATION MEAN"
   ]
  },
  {
   "cell_type": "markdown",
   "id": "70f05c06",
   "metadata": {},
   "source": [
    "## https://pandas.pydata.org/docs/reference/api/pandas.cut.html"
   ]
  },
  {
   "cell_type": "code",
   "execution_count": 57,
   "id": "f56f3a38",
   "metadata": {},
   "outputs": [
    {
     "data": {
      "text/plain": [
       "[(0.994, 3.0], (5.0, 7.0], (3.0, 5.0], (3.0, 5.0], (5.0, 7.0], (0.994, 3.0]]\n",
       "Categories (3, interval[float64, right]): [(0.994, 3.0] < (3.0, 5.0] < (5.0, 7.0]]"
      ]
     },
     "execution_count": 57,
     "metadata": {},
     "output_type": "execute_result"
    }
   ],
   "source": [
    "######## pandas.cut practice ############\n",
    "bin1 = pd.cut(np.array([1, 7, 5, 4, 6, 3]), 3)\n",
    "bin1"
   ]
  },
  {
   "cell_type": "code",
   "execution_count": 49,
   "id": "9a875f4f",
   "metadata": {},
   "outputs": [
    {
     "data": {
      "text/plain": [
       "pandas.core.arrays.categorical.Categorical"
      ]
     },
     "execution_count": 49,
     "metadata": {},
     "output_type": "execute_result"
    }
   ],
   "source": [
    "type(bin1)"
   ]
  },
  {
   "cell_type": "code",
   "execution_count": 50,
   "id": "e523524a",
   "metadata": {},
   "outputs": [
    {
     "data": {
      "text/plain": [
       "([(0.994, 3.0], (5.0, 7.0], (3.0, 5.0], (3.0, 5.0], (5.0, 7.0], (0.994, 3.0]]\n",
       " Categories (3, interval[float64, right]): [(0.994, 3.0] < (3.0, 5.0] < (5.0, 7.0]],\n",
       " array([0.994, 3.   , 5.   , 7.   ]))"
      ]
     },
     "execution_count": 50,
     "metadata": {},
     "output_type": "execute_result"
    }
   ],
   "source": [
    "bin2 = pd.cut(np.array([1, 7, 5, 4, 6, 3]), 3, retbins=True)\n",
    "bin2"
   ]
  },
  {
   "cell_type": "code",
   "execution_count": 51,
   "id": "978a5c8a",
   "metadata": {},
   "outputs": [
    {
     "data": {
      "text/plain": [
       "tuple"
      ]
     },
     "execution_count": 51,
     "metadata": {},
     "output_type": "execute_result"
    }
   ],
   "source": [
    "type(bin2)"
   ]
  },
  {
   "cell_type": "code",
   "execution_count": 52,
   "id": "2345aeb6",
   "metadata": {},
   "outputs": [
    {
     "data": {
      "text/plain": [
       "['bad', 'good', 'medium', 'medium', 'good', 'bad']\n",
       "Categories (3, object): ['bad' < 'medium' < 'good']"
      ]
     },
     "execution_count": 52,
     "metadata": {},
     "output_type": "execute_result"
    }
   ],
   "source": [
    "bin3 = pd.cut(np.array([1, 7, 5, 4, 6, 3]), 3, labels=[\"bad\", \"medium\", \"good\"])\n",
    "bin3"
   ]
  },
  {
   "cell_type": "code",
   "execution_count": 53,
   "id": "f266399b",
   "metadata": {},
   "outputs": [
    {
     "data": {
      "text/plain": [
       "pandas.core.arrays.categorical.Categorical"
      ]
     },
     "execution_count": 53,
     "metadata": {},
     "output_type": "execute_result"
    }
   ],
   "source": [
    "type(bin3)"
   ]
  },
  {
   "cell_type": "code",
   "execution_count": 56,
   "id": "e483d0d0",
   "metadata": {},
   "outputs": [
    {
     "data": {
      "text/plain": [
       "['B', 'B', 'A', 'A', 'B', 'B']\n",
       "Categories (2, object): ['A', 'B']"
      ]
     },
     "execution_count": 56,
     "metadata": {},
     "output_type": "execute_result"
    }
   ],
   "source": [
    "pd.cut(np.array([1, 7, 5, 4, 6, 3]), 3, labels=[\"B\", \"A\", \"B\"], ordered=False)"
   ]
  },
  {
   "cell_type": "code",
   "execution_count": 55,
   "id": "96fb9a75",
   "metadata": {},
   "outputs": [
    {
     "data": {
      "text/plain": [
       "array([0, 1, 1, 3], dtype=int64)"
      ]
     },
     "execution_count": 55,
     "metadata": {},
     "output_type": "execute_result"
    }
   ],
   "source": [
    "pd.cut([0, 1, 1, 2], bins=4, labels=False)"
   ]
  },
  {
   "cell_type": "code",
   "execution_count": null,
   "id": "71482556",
   "metadata": {},
   "outputs": [],
   "source": []
  }
 ],
 "metadata": {
  "kernelspec": {
   "display_name": "Python 3 (ipykernel)",
   "language": "python",
   "name": "python3"
  },
  "language_info": {
   "codemirror_mode": {
    "name": "ipython",
    "version": 3
   },
   "file_extension": ".py",
   "mimetype": "text/x-python",
   "name": "python",
   "nbconvert_exporter": "python",
   "pygments_lexer": "ipython3",
   "version": "3.9.12"
  }
 },
 "nbformat": 4,
 "nbformat_minor": 5
}
